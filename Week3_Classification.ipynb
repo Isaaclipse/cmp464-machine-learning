{
 "cells": [
  {
   "cell_type": "markdown",
   "metadata": {},
   "source": [
    "# Chapter 3 Classification\n",
    "\n",
    "There are two most common tasks in **supervised machine learning**: **regression** (predicting values) and **classification** (predicting classes). In this chapter, we focuse on building classification systems."
   ]
  },
  {
   "cell_type": "markdown",
   "metadata": {},
   "source": [
    "## Data Preparation\n",
    "\n",
    "We will use the MNIST dataset of handwritten images as an example.\n",
    "\n",
    "- Load MNIST dataset using sklearn.datasets.fetch_mldata() or from http://yann.lecun.com/exdb/mnist/ with python-mnist package.\n",
    "- Construct training set and test set. We will use training set to build the classifier, and use test set to evaluate its performance.\n",
    "- Explore the dataset (find size of dataset, show a random image, show multiple images"
   ]
  },
  {
   "cell_type": "code",
   "execution_count": null,
   "metadata": {
    "collapsed": true
   },
   "outputs": [],
   "source": [
    "import numpy as np\n",
    "import pandas as pd\n",
    "import os\n",
    "import matplotlib\n",
    "import matplotlib.pyplot as plt\n",
    "%matplotlib inline"
   ]
  },
  {
   "cell_type": "code",
   "execution_count": null,
   "metadata": {
    "scrolled": true
   },
   "outputs": [],
   "source": [
    "# Attempt with fetch_openml()\n",
    "# from sklearn.datasets import fetch_openml\n",
    "# mnist = fetch_openml('mnist_784', data_home='datasets')\n",
    "# mnist"
   ]
  },
  {
   "cell_type": "code",
   "execution_count": null,
   "metadata": {
    "scrolled": true
   },
   "outputs": [],
   "source": [
    "# Attempt 1: get MNIST from mldata.org\n",
    "# from sklearn.datasets import fetch_mldata\n",
    "# mnist = fetch_mldata('MNIST original')\n",
    "# mnist"
   ]
  },
  {
   "cell_type": "code",
   "execution_count": null,
   "metadata": {
    "scrolled": false
   },
   "outputs": [],
   "source": [
    "# Attempt 2: Load the downloaded image files\n",
    "# 1. Download file from LeCun's website\n",
    "# 2. Decompress the four files\n",
    "# 3. install python package python-mnist\n",
    "# !pip install python-mnist"
   ]
  },
  {
   "cell_type": "code",
   "execution_count": null,
   "metadata": {
    "collapsed": true
   },
   "outputs": [],
   "source": [
    "# from mnist import MNIST\n",
    "# mndata = MNIST(r'C:\\Users\\ch002\\Dropbox\\Teaching\\CMP464\\Spring2019\\Data\\MNIST')\n",
    "# train_images, train_labels = mndata.load_training()\n",
    "# test_images, test_labels = mndata.load_testing()"
   ]
  },
  {
   "cell_type": "code",
   "execution_count": null,
   "metadata": {},
   "outputs": [],
   "source": [
    "# train_images = np.array(train_images)\n",
    "# train_images.shape"
   ]
  },
  {
   "cell_type": "code",
   "execution_count": null,
   "metadata": {
    "collapsed": true
   },
   "outputs": [],
   "source": [
    "# test_images = np.array(test_images)\n",
    "# train_labels = np.array(train_labels)\n",
    "# test_labels = np.array(test_labels)"
   ]
  },
  {
   "cell_type": "code",
   "execution_count": null,
   "metadata": {},
   "outputs": [],
   "source": [
    "# mnist['DESCR']"
   ]
  },
  {
   "cell_type": "code",
   "execution_count": null,
   "metadata": {
    "collapsed": true
   },
   "outputs": [],
   "source": [
    "# images = mnist['data']\n",
    "# labels = mnist['target']"
   ]
  },
  {
   "cell_type": "code",
   "execution_count": 3,
   "metadata": {},
   "outputs": [
    {
     "data": {
      "text/plain": [
       "['mnist_test.csv', 'mnist_train.csv']"
      ]
     },
     "execution_count": 3,
     "metadata": {},
     "output_type": "execute_result"
    }
   ],
   "source": [
    "# Load MNIST from the csv files\n",
    "cur_path = os.getcwd()\n",
    "datapath = cur_path + '/Data/MNIST_csv'\n",
    "os.listdir(datapath)"
   ]
  },
  {
   "cell_type": "code",
   "execution_count": 4,
   "metadata": {},
   "outputs": [
    {
     "data": {
      "text/plain": [
       "(59999, 785)"
      ]
     },
     "execution_count": 4,
     "metadata": {},
     "output_type": "execute_result"
    }
   ],
   "source": [
    "# Load the csv files\n",
    "os.chdir(datapath)\n",
    "train_df = pd.read_csv('mnist_train.csv', sep=',')\n",
    "train_df.shape"
   ]
  },
  {
   "cell_type": "code",
   "execution_count": 9,
   "metadata": {},
   "outputs": [
    {
     "name": "stdout",
     "output_type": "stream",
     "text": [
      "label: 7\n"
     ]
    },
    {
     "data": {
      "text/plain": [
       "<matplotlib.image.AxesImage at 0x24d987bcda0>"
      ]
     },
     "execution_count": 9,
     "metadata": {},
     "output_type": "execute_result"
    },
    {
     "data": {
      "image/png": "[encoded data removed]",
      "text/plain": [
       "<matplotlib.figure.Figure at 0x24d98743198>"
      ]
     },
     "metadata": {},
     "output_type": "display_data"
    }
   ],
   "source": [
    "# split the first column and the rest\n",
    "train_labels = train_df.iloc[:, 0]\n",
    "train_labels\n",
    "train_images = train_df.iloc[:, 1:]\n",
    "\n",
    "# convert the data structure from data frame to numpy array\n",
    "train_labels = np.array(train_labels)\n",
    "train_images = np.array(train_images)\n",
    "\n",
    "# Show the first image\n",
    "img = train_images[100].reshape(28, 28)\n",
    "print(\"label:\", train_labels[100])\n",
    "plt.imshow(img, cmap=matplotlib.cm.binary)"
   ]
  },
  {
   "cell_type": "code",
   "execution_count": 10,
   "metadata": {},
   "outputs": [
    {
     "data": {
      "text/plain": [
       "['mnist_test.csv', 'mnist_train.csv']"
      ]
     },
     "execution_count": 10,
     "metadata": {},
     "output_type": "execute_result"
    }
   ],
   "source": [
    "os.listdir()"
   ]
  },
  {
   "cell_type": "code",
   "execution_count": 11,
   "metadata": {
    "collapsed": true
   },
   "outputs": [],
   "source": [
    "test_image= pd.read_csv('mnist_test.csv',sep=',')"
   ]
  },
  {
   "cell_type": "code",
   "execution_count": 13,
   "metadata": {},
   "outputs": [],
   "source": [
    "test_image.shape\n",
    "\n",
    "test_image= np.array(test_image)"
   ]
  },
  {
   "cell_type": "code",
   "execution_count": 14,
   "metadata": {},
   "outputs": [
    {
     "data": {
      "text/plain": [
       "array([2, 1, 0, 4, 1, 4, 9, 5, 9, 0], dtype=int64)"
      ]
     },
     "execution_count": 14,
     "metadata": {},
     "output_type": "execute_result"
    }
   ],
   "source": [
    "test_labels = test_image[:,0]\n",
    "test_labels[:10]"
   ]
  },
  {
   "cell_type": "code",
   "execution_count": 16,
   "metadata": {},
   "outputs": [
    {
     "name": "stdout",
     "output_type": "stream",
     "text": [
      "2\n"
     ]
    },
    {
     "data": {
      "text/plain": [
       "<matplotlib.image.AxesImage at 0x24daef2b908>"
      ]
     },
     "execution_count": 16,
     "metadata": {},
     "output_type": "execute_result"
    },
    {
     "data": {
      "image/png": "[encoded data removed]",
      "text/plain": [
       "<matplotlib.figure.Figure at 0x24daf3bde10>"
      ]
     },
     "metadata": {},
     "output_type": "display_data"
    }
   ],
   "source": [
    "test_images = test_image[:,1:]\n",
    "\n",
    "print (test_labels[0])\n",
    "\n",
    "img = test_images[0].reshape(28,28)\n",
    "plt.imshow(img, cmap=matplotlib.cm.binary)"
   ]
  },
  {
   "cell_type": "code",
   "execution_count": null,
   "metadata": {
    "collapsed": true
   },
   "outputs": [],
   "source": [
    "# 1:5 -> [1,2,3,4]\n",
    "# 2:6 -> [2,3,4,5]\n",
    "# :10 -> [0,1,2,3,4,5,6,7,8,9]\n",
    "# 3: -> [3, 4, ...., ends at the last index]"
   ]
  },
  {
   "cell_type": "markdown",
   "metadata": {},
   "source": [
    "##### Build a Binary Clasifier\n",
    "\n",
    "To start, we aim at building a binary classifier to identify if an handwritten digit is five.\n",
    "\n",
    "- Create the labels for binary classification (1 for five, and 0 for all other digits)\n",
    "- Apply the **k-nearest-neighbor algorithm** using sklearn.neighbors.KNeighborsClassifier.\n",
    "- Use its fit() method to train the model, use predict method to make predictions on given images."
   ]
  },
  {
   "cell_type": "code",
   "execution_count": null,
   "metadata": {},
   "outputs": [],
   "source": [
    "# type(labels)"
   ]
  },
  {
   "cell_type": "code",
   "execution_count": null,
   "metadata": {
    "collapsed": true
   },
   "outputs": [],
   "source": [
    "# Create an array labels_5 to store the truth value of the label being 5.\n",
    "# labels_5 = (labels == 5)"
   ]
  },
  {
   "cell_type": "code",
   "execution_count": null,
   "metadata": {
    "scrolled": true
   },
   "outputs": [],
   "source": [
    "# df_labels = pd.DataFrame(labels, columns=['Label'])\n",
    "# df_labels['Label'].value_counts()"
   ]
  },
  {
   "cell_type": "code",
   "execution_count": null,
   "metadata": {},
   "outputs": [],
   "source": [
    "# df_labels_5 = pd.DataFrame(labels_5, columns=['Label'])\n",
    "# df_labels_5['Label'].value_counts()"
   ]
  },
  {
   "cell_type": "code",
   "execution_count": null,
   "metadata": {},
   "outputs": [],
   "source": [
    "# the original labels are sorted\n",
    "# labels[:100]"
   ]
  },
  {
   "cell_type": "markdown",
   "metadata": {},
   "source": [
    "## Split the dataset into training set and test set\n",
    "\n",
    "We must reserve a portion of the data to test the model. The training set is used to train the model, and usually cannot be used to evaluate the model."
   ]
  },
  {
   "cell_type": "code",
   "execution_count": null,
   "metadata": {
    "collapsed": true
   },
   "outputs": [],
   "source": [
    "# split the dataset into training set and test set.\n",
    "# usually we take about 15% as test data\n",
    "# from sklearn.model_selection import train_test_split\n",
    "# train_images, test_images, train_labels_5, test_labels_5 = \\\n",
    "#     train_test_split(images, labels_5, test_size = 0.15)"
   ]
  },
  {
   "cell_type": "code",
   "execution_count": 18,
   "metadata": {},
   "outputs": [],
   "source": [
    "# Since the training set and test set are already split, we no long need \n",
    "# train_test_split. However, we need to do shuffling\n",
    "new_indices = np.random.permutation(range(len(train_images)))\n",
    "train_images = train_images[new_indices]\n",
    "train_labels = train_labels[new_indices]"
   ]
  },
  {
   "cell_type": "markdown",
   "metadata": {},
   "source": [
    "Next, we apply KNeighborsClassifier to build a binary classifier."
   ]
  },
  {
   "cell_type": "code",
   "execution_count": null,
   "metadata": {},
   "outputs": [],
   "source": [
    "# VERY SLOW\n",
    "# Apply KNN model to build the binary classifier\n",
    "from sklearn.neighbors import KNeighborsClassifier\n",
    "knn = KNeighborsClassifier()\n",
    "knn.fit(train_images, train_labels_5)"
   ]
  },
  {
   "cell_type": "code",
   "execution_count": null,
   "metadata": {
    "collapsed": true
   },
   "outputs": [],
   "source": [
    "# VERY SLOW \n",
    "# Use the model to make predictions on the test set\n",
    "predictions_knn = knn.predict(test_images)"
   ]
  },
  {
   "cell_type": "code",
   "execution_count": null,
   "metadata": {
    "collapsed": true
   },
   "outputs": [],
   "source": []
  },
  {
   "cell_type": "code",
   "execution_count": 19,
   "metadata": {},
   "outputs": [
    {
     "name": "stderr",
     "output_type": "stream",
     "text": [
      "C:\\Users\\ch002\\Anaconda3\\lib\\site-packages\\sklearn\\linear_model\\stochastic_gradient.py:128: FutureWarning: max_iter and tol parameters have been added in <class 'sklearn.linear_model.stochastic_gradient.SGDClassifier'> in 0.19. If both are left unset, they default to max_iter=5 and tol=None. If tol is not None, max_iter defaults to max_iter=1000. From 0.21, default max_iter will be 1000, and default tol will be 1e-3.\n",
      "  \"and default tol will be 1e-3.\" % type(self), FutureWarning)\n"
     ]
    },
    {
     "data": {
      "text/plain": [
       "SGDClassifier(alpha=0.0001, average=False, class_weight=None, epsilon=0.1,\n",
       "       eta0=0.0, fit_intercept=True, l1_ratio=0.15,\n",
       "       learning_rate='optimal', loss='hinge', max_iter=None, n_iter=None,\n",
       "       n_jobs=1, penalty='l2', power_t=0.5, random_state=None,\n",
       "       shuffle=True, tol=None, verbose=0, warm_start=False)"
      ]
     },
     "execution_count": 19,
     "metadata": {},
     "output_type": "execute_result"
    }
   ],
   "source": [
    "# Create a binary labels for '5' or 'not 5'\n",
    "train_labels_5 = [(label == 5) for label in train_labels]\n",
    "test_labels_5 = [(label == 5) for label in test_labels]\n",
    "\n",
    "# Use SGDClassifier \n",
    "from sklearn.linear_model import SGDClassifier\n",
    "sgd = SGDClassifier()\n",
    "sgd.fit(train_images, train_labels_5)"
   ]
  },
  {
   "cell_type": "code",
   "execution_count": 21,
   "metadata": {},
   "outputs": [
    {
     "data": {
      "text/plain": [
       "array([False, False, False, False, False, False, False, False, False,\n",
       "       False])"
      ]
     },
     "execution_count": 21,
     "metadata": {},
     "output_type": "execute_result"
    }
   ],
   "source": [
    "predictions = sgd.predict(test_images)\n",
    "predictions[:10]"
   ]
  },
  {
   "cell_type": "markdown",
   "metadata": {},
   "source": [
    "## K-Nearest Neighbor (KNN) Method\n",
    "\n",
    "- Used to classify new data points based on \"distance\" to known data\n",
    "- Find the K nearest neighbors, based on your distance metric\n",
    "- Let them all vote on the classification"
   ]
  },
  {
   "cell_type": "code",
   "execution_count": null,
   "metadata": {
    "collapsed": true
   },
   "outputs": [],
   "source": []
  },
  {
   "cell_type": "markdown",
   "metadata": {},
   "source": [
    "## Evaluate Performance of a Classifier\n",
    "\n",
    "- Use sklearn.metrics.accuracy_score to calculate classification accuracy on the training set and on the test set.\n",
    "- Display the images where the model predicts wrong.\n",
    "- Use cross-validation to evaluate the performance of the model on various training and test sets.\n",
    "- Use confusion matrix to show the percentage of **false positives** and **true negatives**."
   ]
  },
  {
   "cell_type": "code",
   "execution_count": 23,
   "metadata": {},
   "outputs": [
    {
     "name": "stdout",
     "output_type": "stream",
     "text": [
      "test_accuracy: 0.9600960096009601\n",
      "train_accuracy: 0.9569659494324906\n"
     ]
    }
   ],
   "source": [
    "# Calculate the test accuracy\n",
    "from sklearn.metrics import accuracy_score\n",
    "test_accuracy = accuracy_score(test_labels_5, predictions)\n",
    "print('test_accuracy:', test_accuracy)\n",
    "\n",
    "# training accuracy is not a good measure of performance\n",
    "train_predictions = sgd.predict(train_images)\n",
    "train_accuracy = accuracy_score(train_labels_5, train_predictions)\n",
    "print('train_accuracy:', train_accuracy)"
   ]
  },
  {
   "cell_type": "markdown",
   "metadata": {},
   "source": [
    "#### Cross Validation\n",
    "- partition the dataset into k mutully-exclusive subsets\n",
    "- perform training on all but the 1st set, test the performance on the 1st set.\n",
    "- perform training on all but the 2nd set, test the performance on the 2nd set.\n",
    "- perform training on all but the 3rd set, test the performance on the 3rd set.\n",
    "- ....\n",
    "- perform training on all but the last set, test the performance on the last set.\n",
    "\n",
    "In this way, the model is tested on k different training sets. If all performances are acceptable, we should have high confidence on the model."
   ]
  },
  {
   "cell_type": "code",
   "execution_count": 24,
   "metadata": {},
   "outputs": [
    {
     "name": "stderr",
     "output_type": "stream",
     "text": [
      "C:\\Users\\ch002\\Anaconda3\\lib\\site-packages\\sklearn\\linear_model\\stochastic_gradient.py:128: FutureWarning: max_iter and tol parameters have been added in <class 'sklearn.linear_model.stochastic_gradient.SGDClassifier'> in 0.19. If both are left unset, they default to max_iter=5 and tol=None. If tol is not None, max_iter defaults to max_iter=1000. From 0.21, default max_iter will be 1000, and default tol will be 1e-3.\n",
      "  \"and default tol will be 1e-3.\" % type(self), FutureWarning)\n",
      "C:\\Users\\ch002\\Anaconda3\\lib\\site-packages\\sklearn\\linear_model\\stochastic_gradient.py:128: FutureWarning: max_iter and tol parameters have been added in <class 'sklearn.linear_model.stochastic_gradient.SGDClassifier'> in 0.19. If both are left unset, they default to max_iter=5 and tol=None. If tol is not None, max_iter defaults to max_iter=1000. From 0.21, default max_iter will be 1000, and default tol will be 1e-3.\n",
      "  \"and default tol will be 1e-3.\" % type(self), FutureWarning)\n",
      "C:\\Users\\ch002\\Anaconda3\\lib\\site-packages\\sklearn\\linear_model\\stochastic_gradient.py:128: FutureWarning: max_iter and tol parameters have been added in <class 'sklearn.linear_model.stochastic_gradient.SGDClassifier'> in 0.19. If both are left unset, they default to max_iter=5 and tol=None. If tol is not None, max_iter defaults to max_iter=1000. From 0.21, default max_iter will be 1000, and default tol will be 1e-3.\n",
      "  \"and default tol will be 1e-3.\" % type(self), FutureWarning)\n",
      "C:\\Users\\ch002\\Anaconda3\\lib\\site-packages\\sklearn\\linear_model\\stochastic_gradient.py:128: FutureWarning: max_iter and tol parameters have been added in <class 'sklearn.linear_model.stochastic_gradient.SGDClassifier'> in 0.19. If both are left unset, they default to max_iter=5 and tol=None. If tol is not None, max_iter defaults to max_iter=1000. From 0.21, default max_iter will be 1000, and default tol will be 1e-3.\n",
      "  \"and default tol will be 1e-3.\" % type(self), FutureWarning)\n",
      "C:\\Users\\ch002\\Anaconda3\\lib\\site-packages\\sklearn\\linear_model\\stochastic_gradient.py:128: FutureWarning: max_iter and tol parameters have been added in <class 'sklearn.linear_model.stochastic_gradient.SGDClassifier'> in 0.19. If both are left unset, they default to max_iter=5 and tol=None. If tol is not None, max_iter defaults to max_iter=1000. From 0.21, default max_iter will be 1000, and default tol will be 1e-3.\n",
      "  \"and default tol will be 1e-3.\" % type(self), FutureWarning)\n"
     ]
    }
   ],
   "source": [
    "from sklearn.model_selection import cross_val_score\n",
    "accuracy_scores = cross_val_score(sgd, train_images, train_labels_5, cv=5,\n",
    "                                 scoring='accuracy')"
   ]
  },
  {
   "cell_type": "code",
   "execution_count": 25,
   "metadata": {},
   "outputs": [
    {
     "name": "stdout",
     "output_type": "stream",
     "text": [
      "[0.95216667 0.95975    0.96641667 0.965      0.95791316]\n"
     ]
    }
   ],
   "source": [
    "print(accuracy_scores)"
   ]
  },
  {
   "cell_type": "markdown",
   "metadata": {},
   "source": [
    "### Confusion Matrix\n",
    "For each pair of class A and B:\n",
    "- count the number of instances of class A being classified as B\n",
    "- count the number of instances of class B being classified as A\n",
    "\n",
    "The numbers will form an $n\\times n$ matrix, where $n$ is the number of classes."
   ]
  },
  {
   "cell_type": "code",
   "execution_count": 26,
   "metadata": {},
   "outputs": [
    {
     "name": "stdout",
     "output_type": "stream",
     "text": [
      "[[9087   20]\n",
      " [ 379  513]]\n"
     ]
    }
   ],
   "source": [
    "from sklearn.metrics import confusion_matrix\n",
    "conf_mat = confusion_matrix(test_labels_5, predictions)\n",
    "print(conf_mat)"
   ]
  },
  {
   "cell_type": "markdown",
   "metadata": {},
   "source": [
    "**For binary classifiers**:\n",
    "confusion matrx = [[TN, FP], [FN, TP]]\n",
    "\n",
    "- TN: true negative\n",
    "- FP: false positive\n",
    "- FN: false negative\n",
    "- TP: true positive\n",
    "\n",
    "**Precision** = TP / (TP + FP)\n",
    "\n",
    "- What does precision represent?\n",
    "- Can a bad model have high precision?\n",
    "\n",
    "\n",
    "**Recall** = TP / (TP + FN)\n",
    "- What does recall represent?\n",
    "- Can a bad model have high recall?\n",
    "\n",
    "$F_1$ **score**\n",
    "\n",
    "$F_1 = \\frac{2}{\\frac{1}{precision} + \\frac{1}{recall}}$"
   ]
  },
  {
   "cell_type": "code",
   "execution_count": 30,
   "metadata": {},
   "outputs": [
    {
     "name": "stdout",
     "output_type": "stream",
     "text": [
      "0.9624765478424016 0.5751121076233184 0.7200000000000002 0.72\n"
     ]
    }
   ],
   "source": [
    "from sklearn.metrics import precision_score, recall_score, f1_score\n",
    "precision = precision_score(test_labels_5, predictions)\n",
    "recall = recall_score(test_labels_5, predictions)\n",
    "f1 = f1_score(test_labels_5, predictions)\n",
    "f1_formula = 2 / (1 / precision + 1 / recall)\n",
    "print(precision, recall, f1, f1_formula)"
   ]
  },
  {
   "cell_type": "markdown",
   "metadata": {},
   "source": [
    "## More Performance Measures\n",
    "\n",
    "- Precision-Recall tradeoff\n",
    "- Distribution of scores\n",
    "- ROC (Receiver operation characteristic) curve: True positive rate vs. Negative positive rate\n",
    "- AUC (Area under curve)"
   ]
  },
  {
   "cell_type": "code",
   "execution_count": 31,
   "metadata": {
    "collapsed": true
   },
   "outputs": [],
   "source": [
    "from sklearn.metrics import roc_curve\n",
    "test_scores = sgd.decision_function(test_images)\n",
    "tpr, npr, thresholds = roc_curve(test_labels_5, test_scores)"
   ]
  },
  {
   "cell_type": "code",
   "execution_count": 34,
   "metadata": {
    "scrolled": true
   },
   "outputs": [
    {
     "data": {
      "text/plain": [
       "[<matplotlib.lines.Line2D at 0x24d9951e710>]"
      ]
     },
     "execution_count": 34,
     "metadata": {},
     "output_type": "execute_result"
    },
    {
     "data": {
      "image/png": "[encoded data removed]",
      "text/plain": [
       "<matplotlib.figure.Figure at 0x24d9951e9b0>"
      ]
     },
     "metadata": {},
     "output_type": "display_data"
    }
   ],
   "source": [
    "# plot tpr vs. npr.\n",
    "plt.plot(tpr, npr, 'b-')\n",
    "plt.xlim([0, 1])\n",
    "plt.ylim([0, 1])\n",
    "plt.plot([0, 1], [0, 1], 'g--')"
   ]
  },
  {
   "cell_type": "code",
   "execution_count": 36,
   "metadata": {},
   "outputs": [
    {
     "name": "stdout",
     "output_type": "stream",
     "text": [
      "AUC score: 0.9609629856499288\n"
     ]
    }
   ],
   "source": [
    "from sklearn.metrics import roc_auc_score\n",
    "score = roc_auc_score(test_labels_5, test_scores)\n",
    "print(\"AUC score:\", score)"
   ]
  },
  {
   "cell_type": "markdown",
   "metadata": {},
   "source": [
    "# Multiclass Classification\n",
    "\n",
    "- Some models can directly handle multiple classes (Random forest, naive Bayes, neural networks)\n",
    "- One vs. All: build a binary classifier for each class, compare their prediction scores\n",
    "- One vs. One: build a binary classifier for each pair of classes, and see which class wins most duels\n",
    "\n",
    "**Q: How to evaluate a multiclass classifier?**\n",
    "\n",
    "Further topics:\n",
    "\n",
    "- multilabel classification\n",
    "- multioutput classification"
   ]
  },
  {
   "cell_type": "code",
   "execution_count": 37,
   "metadata": {},
   "outputs": [
    {
     "name": "stderr",
     "output_type": "stream",
     "text": [
      "C:\\Users\\ch002\\Anaconda3\\lib\\site-packages\\sklearn\\linear_model\\stochastic_gradient.py:128: FutureWarning: max_iter and tol parameters have been added in <class 'sklearn.linear_model.stochastic_gradient.SGDClassifier'> in 0.19. If both are left unset, they default to max_iter=5 and tol=None. If tol is not None, max_iter defaults to max_iter=1000. From 0.21, default max_iter will be 1000, and default tol will be 1e-3.\n",
      "  \"and default tol will be 1e-3.\" % type(self), FutureWarning)\n"
     ]
    },
    {
     "data": {
      "text/plain": [
       "SGDClassifier(alpha=0.0001, average=False, class_weight=None, epsilon=0.1,\n",
       "       eta0=0.0, fit_intercept=True, l1_ratio=0.15,\n",
       "       learning_rate='optimal', loss='hinge', max_iter=None, n_iter=None,\n",
       "       n_jobs=1, penalty='l2', power_t=0.5, random_state=None,\n",
       "       shuffle=True, tol=None, verbose=0, warm_start=False)"
      ]
     },
     "execution_count": 37,
     "metadata": {},
     "output_type": "execute_result"
    }
   ],
   "source": [
    "sgd2 = SGDClassifier()\n",
    "sgd2.fit(train_images, train_labels)"
   ]
  },
  {
   "cell_type": "code",
   "execution_count": 38,
   "metadata": {
    "collapsed": true
   },
   "outputs": [],
   "source": [
    "predictions2 = sgd2.predict(test_images)"
   ]
  },
  {
   "cell_type": "code",
   "execution_count": 39,
   "metadata": {},
   "outputs": [
    {
     "name": "stdout",
     "output_type": "stream",
     "text": [
      "0.8790879087908791\n"
     ]
    }
   ],
   "source": [
    "accuracy = accuracy_score(test_labels, predictions2)\n",
    "mat = confusion_matrix(test_labels, predictions2)\n",
    "print(accuracy)"
   ]
  },
  {
   "cell_type": "code",
   "execution_count": 40,
   "metadata": {},
   "outputs": [
    {
     "name": "stdout",
     "output_type": "stream",
     "text": [
      "[[ 915    0   15    9    0   10   20    4    5    2]\n",
      " [   0 1112    2    6    0    0    2    1   11    1]\n",
      " [   3   12  901   56    5    5    9   14   18    9]\n",
      " [   1    1   16  947    1   20    0   11    4    9]\n",
      " [   4    6    7    8  871    1    7   21   17   40]\n",
      " [   6    3    3  100   13  716   10    9   26    6]\n",
      " [   5    2   13    8    6   23  888    4    9    0]\n",
      " [   0    9   23    9    4    1    1  954    2   24]\n",
      " [   8   25   29  114   18   61    3   32  668   16]\n",
      " [   5   13    7   22   49   13    0   75    7  818]]\n"
     ]
    }
   ],
   "source": [
    "print(mat)"
   ]
  },
  {
   "cell_type": "markdown",
   "metadata": {},
   "source": [
    "## Homework\n",
    "\n",
    "1. Training machine learning models on MNIST data with augmentation:\n",
    "    - Use scipy.ndimage.interpolation.shift() function to shift each image in the MNIST training dataset in the following ways: 1) 1 pixel up; 2) 1 pixel down; 3) 1 pixel to the left; 4) 1 pixel to the right.\n",
    "    - Use SGDClassifier to build a binary classifier on the augmented dataset that identifies if the image is **9**.\n",
    "    - Evaluate the performance of the classifier by showing: 1) test accuracy; 2) confusion matrix; \n",
    "\n",
    "2. (extra credits) Chapter 3 Exercise 4: Build a spam classifer."
   ]
  },
  {
   "cell_type": "code",
   "execution_count": null,
   "metadata": {
    "collapsed": true
   },
   "outputs": [],
   "source": []
  }
 ],
 "metadata": {
  "kernelspec": {
   "display_name": "Python 3",
   "language": "python",
   "name": "python3"
  },
  "language_info": {
   "codemirror_mode": {
    "name": "ipython",
    "version": 3
   },
   "file_extension": ".py",
   "mimetype": "text/x-python",
   "name": "python",
   "nbconvert_exporter": "python",
   "pygments_lexer": "ipython3",
   "version": "3.6.3"
  }
 },
 "nbformat": 4,
 "nbformat_minor": 2
}
