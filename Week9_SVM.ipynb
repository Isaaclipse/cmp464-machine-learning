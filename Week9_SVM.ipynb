{
 "cells": [
  {
   "cell_type": "markdown",
   "metadata": {},
   "source": [
    "# Chapter 5 \n",
    "# Support Vector Machines\n",
    "\n",
    "*Support Vector Machine* (SVM) is one of the most popular models in Machine Learning. It is capable of performing linear or nonlinear classification, regression, and even outlier detection. This chapter will explain the core concepts of SVMs, how to use them, and how they work.\n",
    "\n",
    "## Task 1: Linear SVM with Hard Margin\n",
    "- Each data example has two features: $x_1$ and $x_2$. Using them as coordinates, they can be visualized as a data point on the coordinate plane.\n",
    "- Binary classification: target value $y = 1$ means that the instance belongs to a certain class (class 1); $y = -1$ means that the instance belongs to another class (class -1).\n",
    "- Classes are linearly separable: The two classes can clearly be separrated with a straight line.\n",
    "- The goal is to find a straight line that best separates the two classes perfectly (no mis-classification is allowed).\n",
    "- The best straight line that separates the two classes is the one with maximized distance from it to the nearest data point on each class."
   ]
  },
  {
   "cell_type": "markdown",
   "metadata": {},
   "source": [
    "![title](Data/SVM1.png)"
   ]
  },
  {
   "cell_type": "markdown",
   "metadata": {},
   "source": [
    "In the above graph, there are three lines (H1, H2, H3) that try to separate black dots from white dots.\n",
    "- H1 is clearly bad because it doesn't even separate the two classes properly.\n",
    "- H2 separates the two classes perfectly, but it is so close to the data points that it will probably not perform well on new instances.\n",
    "- H3 not only separates the two classes but also stays as far away from the closest training instances as possible. It is reasonable to believe that H3 will generalize well on new instances."
   ]
  },
  {
   "cell_type": "markdown",
   "metadata": {},
   "source": [
    "![title](Data/SVM2.jpeg)"
   ]
  },
  {
   "cell_type": "markdown",
   "metadata": {},
   "source": [
    "Notice that adding more training instances \"off the street\" will not affect the decision boundary at all: it is fully determined (or \"supported\") by the instances located on the edge of the street. These instances are called the *support vectors*.\n",
    "\n",
    "SVMs are sensitive to the feature scales, so proper feature scaling is necessary for obtaining a good decision boundary."
   ]
  },
  {
   "cell_type": "markdown",
   "metadata": {},
   "source": [
    "### Express an SVM model with three parallel lines\n",
    "\n",
    "We can use three lines to expression the above binary classifier:\n",
    "\n",
    "- $w_1x_1 + w_2x_2 + b = 0$ represents the line in the middle of the gap.\n",
    "- $w_1x_1 + w_2x_2 + b = 1$ represents the right boundary of the gap.\n",
    "- $w_1x_1 + w_2x_2 + b = -1$ represents the left boundary of the gap.\n",
    "\n",
    "The parameters of this model are $w_1(\\ge 0), w_2, b$. To avoid ambiguity, we choose $w_1$ to be non-negative. Here all three lines share the same slope w because they are parallel. \n",
    "\n",
    "- For any point $(x_1, x_2)$ on the right half plane divided by the central line, the expression $w_1x_1 + w_2x_2 + b$ is positive.\n",
    "- For any point $(x_1, x_2)$ on the left half plane, $w_1x_1 + w_2x_2 + b$ is negative.\n",
    "\n",
    "**Question**: How to compute the slope of these lines?\n",
    "\n",
    "If $w_2=0$, the line is verticle.\n",
    "If $w_2\\neq 0$, the slope is $-\\frac{w_1}{w_2}$."
   ]
  },
  {
   "cell_type": "code",
   "execution_count": 17,
   "metadata": {},
   "outputs": [
    {
     "data": {
      "text/plain": [
       "<matplotlib.legend.Legend at 0x2256a18df60>"
      ]
     },
     "execution_count": 17,
     "metadata": {},
     "output_type": "execute_result"
    },
    {
     "data": {
      "image/png": "[encoded data removed]",
      "text/plain": [
       "<matplotlib.figure.Figure at 0x22568db3e80>"
      ]
     },
     "metadata": {},
     "output_type": "display_data"
    }
   ],
   "source": [
    "# Suppose w1 = 1, w2 = 2, and b = -3, draw the above\n",
    "# three lines on a graph.\n",
    "\n",
    "import numpy as np\n",
    "import matplotlib.pyplot as plt\n",
    "%matplotlib inline\n",
    "\n",
    "# 1. plot the center line: x1 + 2x2 - 3 = 0.\n",
    "list_array = np.linspace(-3, 3, 100)\n",
    "y = [i*(-1/2) + (3/2) for i in list_array]\n",
    "plt.plot(list_array, y, label = \"x1 + 2x2 - 3 = 0\")\n",
    "\n",
    "# 2. plot x1 + 2x2 - 3 = 1\n",
    "# y2 = [(4 - x1)/2 for x1 in list_array]\n",
    "y2 = (4 - list_array) / 2\n",
    "plt.plot(list_array, y2,'--', label = \"x1 + 2x2 - 3 = 1\")\n",
    "\n",
    "# 3. plot plot x1 + 2x2 - 3 = -1\n",
    "y3= (2 - list_array)/2 \n",
    "plt.plot(list_array, y3, '--', label=\"x1 + 2x2 - 3 = -1\")  \n",
    "\n",
    "\n",
    "\n",
    "# plot three points (0,1), (2,3), (1, 1.1)\n",
    "plt.plot(0, 1, 'bs', label=\"(0, 1)\")\n",
    "plt.plot(2, 3, 'g^', label=\"(2, 3)\")\n",
    "plt.plot(1, 1.1, 'y+', label=\"(1, 1.1)\")\n",
    "\n",
    "plt.xlim([-3, 3])\n",
    "plt.ylim([0, 5])\n",
    "plt.legend(loc=\"upper left\")\n"
   ]
  },
  {
   "cell_type": "markdown",
   "metadata": {},
   "source": [
    "### Decision function and predictions\n",
    "\n",
    "The linear SVM classifier model predicts the class of a new instance $(x_1, x_2)$ by simply computing the decision function $w_1x_1 + w_2x_2 + b$: if the result is positive, the predicted class is the class on the right, otherwise it is the class on the left.\n",
    "\n",
    "**Decision rule**\n",
    "\\begin{equation}\n",
    "\\hat{y}(prediction)  = \n",
    "\\left\\{\n",
    "\\begin{array}{cc}\n",
    " 1 & \\textit{if } w_1x_1 + w_2x_2 + b \\ge 0,\\\\\n",
    " -1 & \\textit{if } w_1x_1 + w_2x_2 + b < 0.\n",
    "\\end{array}\n",
    "\\right.\n",
    "\\end{equation}"
   ]
  },
  {
   "cell_type": "code",
   "execution_count": 11,
   "metadata": {},
   "outputs": [
    {
     "name": "stdout",
     "output_type": "stream",
     "text": [
      "-1\n",
      "the model will classify point (0, 1) as class -1.\n",
      "Class is 1\n",
      "Class is 1\n"
     ]
    }
   ],
   "source": [
    "# Suppose w1 = 1, w2 = 2, and b = -3, decide the \n",
    "# class of: \n",
    "# 1) x_1 = 0, x_2 = 1; \n",
    "# 2) x_1 = 2, x_2 = 3;\n",
    "# 3) x_1 = 1, x_2 = 1.1.\n",
    "\n",
    "# 1. Apply the given model to classify the above points.\n",
    "# model: 1 * x1 + 2 * x2 - 3 = 0\n",
    "print(1 * 0 + 2 * 1 - 3)\n",
    "print('the model will classify point (0, 1) as class -1.')\n",
    "if 1 * 2 + 2*3- 3  >= 0:\n",
    "    print(\"Class is 1\")\n",
    "else :\n",
    "    print(\"Class is -1\")\n",
    "\n",
    "if 1* 1 + 2 * 1.1-3 >= 0:\n",
    "    print(\"Class is 1\")\n",
    "else :\n",
    "    print(\"Class is -1\")\n",
    "    \n",
    "# 2. Plot the points together with three decision lines.\n",
    "\n",
    "    "
   ]
  },
  {
   "cell_type": "markdown",
   "metadata": {},
   "source": [
    "### Training objective\n",
    "Let's explore how does the magnitude of parameters affect the margin."
   ]
  },
  {
   "cell_type": "code",
   "execution_count": 21,
   "metadata": {},
   "outputs": [
    {
     "data": {
      "text/plain": [
       "[<matplotlib.lines.Line2D at 0x2256a339e10>]"
      ]
     },
     "execution_count": 21,
     "metadata": {},
     "output_type": "execute_result"
    },
    {
     "data": {
      "image/png": "[encoded data removed]",
      "text/plain": [
       "<matplotlib.figure.Figure at 0x2256a2e8ac8>"
      ]
     },
     "metadata": {},
     "output_type": "display_data"
    }
   ],
   "source": [
    "# In the previous model, increase w1 from 1 to 2,\n",
    "# and plot the new decision margin.\n",
    "# lines are: 2 * x1 + 2 * x2 - 3 = (0, 1, -1)\n",
    "\n",
    "# plot 2 * x1 + 2 * x2 - 3 = 0\n",
    "# x2 = ( 3 - 2 * x1 ) / 2\n",
    "x = np.linspace(-3, 3, 100)\n",
    "# y = [i*(-1/2) + (3/2) for i in list_arrra]\n",
    "y1 = (3-2*x)/2\n",
    "plt.plot(x,y1)\n",
    "y2 = (4 -2*x)/2\n",
    "plt.plot(x, y2, \"--\")\n",
    "y3 = (2 - 2*x)/2\n",
    "plt.plot(x, y3, \"--\")\n"
   ]
  },
  {
   "cell_type": "code",
   "execution_count": 14,
   "metadata": {},
   "outputs": [
    {
     "data": {
      "text/plain": [
       "(-3, 3)"
      ]
     },
     "execution_count": 14,
     "metadata": {},
     "output_type": "execute_result"
    },
    {
     "data": {
      "image/png": "[encoded data removed]",
      "text/plain": [
       "<matplotlib.figure.Figure at 0x21f7b696b70>"
      ]
     },
     "metadata": {},
     "output_type": "display_data"
    }
   ],
   "source": [
    "# Decrease w2 from 2 to 1 from the original model,\n",
    "# and plot the new decision margin.\n",
    "\n"
   ]
  },
  {
   "cell_type": "code",
   "execution_count": 5,
   "metadata": {
    "collapsed": true
   },
   "outputs": [],
   "source": [
    "# Change b from -3 to -2 from the original model,\n",
    "# and plot the new decision margin\n",
    "\n"
   ]
  },
  {
   "cell_type": "markdown",
   "metadata": {},
   "source": [
    "**How does each parameter affect the width of decision margin?**\n",
    "- smaller w_1 -> wider gap; larger w_1 -> narrower gap.\n",
    "- smaller w_2 -> wider gap; larger w_2 -> narrower gap.\n",
    "- b does not affect the width of the gap."
   ]
  },
  {
   "cell_type": "markdown",
   "metadata": {},
   "source": [
    "**(Hard margin) linear SVM classifier objective function**:\n",
    "\n",
    "\\begin{equation}\n",
    "\\begin{array}{cc}\n",
    "\\textit{minimize}_{w_1, w_2, b} & \\frac{1}{2}(w_1^2 + w_2^2)\\\\\n",
    "\\textit{subject to} & y^{(i)}(w_1x_1^{(i)} + w_2x_2^{(i)} + b) \\ge 1 \\textit{ for all } i=1,...,m.\n",
    "\\end{array}\n",
    "\\end{equation}\n",
    "\n",
    "- The factor 1/2 is used in the objective function only to make its partial derivatives simpler. (What are its partial derivatives?)\n",
    "- Constraints will make sure that all data points will be placed on the correct side of the gap (thus called hard margin).\n",
    "- If $y=1$, the model requires that $w_1x_1 + w_2x_2 + b \\ge 1$. \n",
    "- If $y=-1$, the model requires that $w_1x_1 + w_2x_2 + b \\le -1$.\n",
    "- The objective function has nice properties: 1) it can be computed efficiently, 2) its partial derivates are even simpler, 3) it is a convex function.\n",
    "- However, the existence of the linear constraints are annoying: gradient descent may violate some constraint during parameter update."
   ]
  },
  {
   "cell_type": "markdown",
   "metadata": {},
   "source": [
    "![title](Data/SVM3.png)"
   ]
  },
  {
   "cell_type": "markdown",
   "metadata": {},
   "source": [
    "### Drawbacks of Hard Margin SVM\n",
    "If we strictly impose that all instances be off the street and on the correct side, the model can only be applied to models that are linearly separable. Moreover, it will be very sensitive to outliers. The above figure illustrates how badly one outlier may affect the model. \n",
    "\n",
    "To avoid these issues, it is preferable to use a more flexible model. The objective is to find a good balance between keeping the street as wide as possible and limiting the margin violations. This is called *soft margin classification*."
   ]
  },
  {
   "cell_type": "markdown",
   "metadata": {},
   "source": [
    "## Task 2: Linear SVM with Soft Margin\n",
    "- Each data example has two features: $x_1$ and $x_2$.\n",
    "- Binary classification: target value $y = 1$ means that the instance belongs to \"class 1\", $y = -1$ means that the instance belongs to \"class -1\".\n",
    "- Classes are **mostly** linearly separable: **with a few exceptions**, the two classes can be separrated with a straight line.\n",
    "- The goal is to find a straight line that best separates the two classes. **Mis-classifications are allowed, but each mis-classification will add a cost to the model.**\n",
    "- The objective function takes into account both **the magnitude of w's (how wide the gap is) and the degree of margin violations**."
   ]
  },
  {
   "cell_type": "markdown",
   "metadata": {},
   "source": [
    "![title](Data/SVM4.jpg)"
   ]
  },
  {
   "cell_type": "markdown",
   "metadata": {},
   "source": [
    "### Model\n",
    "With parameters $w_1(\\ge 0)$, $w_2$, and $b$:\n",
    "- $w_1x_1 + w_2x_2 + b = 0$ represents the line in the middle of the gap.\n",
    "- $w_1x_1 + w_2x_2 + b = 1$ represents the right boundary of the gap.\n",
    "- $w_1x_1 + w_2x_2 + b = -1$ represents the left boundary of the gap.\n",
    "\n",
    "### Objective function\n",
    "\n",
    "$J(w_1, w_2, b)$ \n",
    "$= \\frac{1}{2}(w_1^2+w_2^2) + C\n",
    "\\sum_{i=1}^m\\max(0, 1-y^{(i)}(w_1x_1^{(i)}+w_2x_2^{(i)}+b))$\n",
    "\n",
    "- The first sum in the cost function will push the model to have small weights, leading to a larger margin.\n",
    "- The second sum computes the total of all margin violations. An instance's margin violation is equal to 0 if it is located off the street and on the correct side, or else it is proportional to the distance to the correct side of the street.\n",
    "- Minimizing this term ensures that the model makes the margin violations as small and as few as possible.\n",
    "\n",
    "### Hinge loss function\n",
    "The function $\\max(0, 1-t)$ used in the above cost function is called the *hinge loss* function. \n",
    "- It is equal to 0 when $t\\ge 1$. \n",
    "- Its derivative (slope) is equal to 0 if $t>1$.\n",
    "- Its derivative (slope) is equal to -1 if $t<1$.\n",
    "- It is a convex function."
   ]
  },
  {
   "cell_type": "code",
   "execution_count": 4,
   "metadata": {
    "scrolled": true
   },
   "outputs": [
    {
     "name": "stdout",
     "output_type": "stream",
     "text": [
      "[ 4.          3.93939394  3.87878788  3.81818182  3.75757576] [-3.         -2.93939394 -2.87878788 -2.81818182 -2.75757576]\n"
     ]
    },
    {
     "data": {
      "image/png": "[encoded data removed]",
      "text/plain": [
       "<matplotlib.figure.Figure at 0x1e23ef73240>"
      ]
     },
     "metadata": {},
     "output_type": "display_data"
    }
   ],
   "source": [
    "# plot the graph of the hinge loss function.\n",
    "\n"
   ]
  },
  {
   "cell_type": "code",
   "execution_count": 7,
   "metadata": {},
   "outputs": [
    {
     "name": "stdout",
     "output_type": "stream",
     "text": [
      "cost added by the first point: 0\n",
      "cost added by the second point: 6\n",
      "cost added by the third point: 0.7999999999999998\n"
     ]
    }
   ],
   "source": [
    "# Suppose w1 = 1, w2 = 2, and b = -3, decide the \n",
    "# margin violation of: \n",
    "# 1) x_1 = 0, x_2 = 1, y = -1; \n",
    "# 2) x_1 = 2, x_2 = 3, y = -1;\n",
    "# 3) x_1 = 1, x_2 = 1.1, y = 1.\n",
    "\n",
    "\n"
   ]
  },
  {
   "cell_type": "code",
   "execution_count": null,
   "metadata": {
    "collapsed": true
   },
   "outputs": [],
   "source": [
    "# Suppose that the training set consists only these \n",
    "# three instances, compute the value of the model's \n",
    "# cost function J.\n",
    "\n"
   ]
  },
  {
   "cell_type": "markdown",
   "metadata": {},
   "source": [
    "### Advantages of Soft Margin SVM\n",
    "- The dataset does not have to be linearly separable.\n",
    "- Outliers does not affect the model too much.\n",
    "- The cost function is convex and it has no constraints, thus gradient descent can be applied to its minimization."
   ]
  },
  {
   "cell_type": "markdown",
   "metadata": {},
   "source": [
    "## Task 3: Multi-variable Linear SVM with Soft Margin\n",
    "### Assumptions\n",
    "- Each data example has $n$ features: $\\textbf{x} = (x_1, x_2, ..., x_n)$.\n",
    "- Binary classification: target value $y = 1$ means that the instance belongs to \"class 1\", $y = -1$ means that the instance belongs to \"class -1\".\n",
    "- Classes are **mostly** linearly separable: **with a few exceptions**, the two classes can be separrated with a straight line.\n",
    "- The goal is to find a **hyperplane** that best separates the two classes. **Mis-classifications are allowed, but each mis-classification will add a cost to the model.**\n",
    "- The objective function takes into account both **the magnitude of w's (how wide the gap is) and the degree of margin violations**.\n",
    "\n",
    "### Model\n",
    "With parameters $\\textbf{w} = (w_1, w_2, ..., w_n)$  and $b$:\n",
    "- $\\textbf{w}\\cdot \\textbf{x}^T + b = 0$ represents the line in the middle of the gap.\n",
    "- $\\textbf{w}\\cdot \\textbf{x}^T + b = 1$ represents the one boundary of the gap.\n",
    "- $\\textbf{w}\\cdot \\textbf{x}^T + b = -1$ represents the another boundary of the gap.\n",
    "\n",
    "### Objective function\n",
    "\n",
    "$J(\\textbf{w}, b)$ \n",
    "$= \\frac{1}{2}(\\textbf{w}\\cdot \\textbf{w}^T) + C\n",
    "\\sum_{i=1}^m\\max(0, 1-y^{(i)}(\\textbf{w}\\cdot (\\textbf{x}^{(i)})^T+b))$\n",
    "\n",
    "- The first sum in the cost function will push the model to have small weights, leading to a larger margin.\n",
    "- The second sum computes the total of all margin violations. An instance's margin violation is equal to 0 if it is located off the street and on the correct side, or else it is proportional to the distance to the correct side of the street.\n",
    "- Minimizing this term ensures that the model makes the margin violations as small and as few as possible."
   ]
  },
  {
   "cell_type": "markdown",
   "metadata": {},
   "source": [
    "### Decision rule\n",
    "The model will predict $y=1$ if $\\textbf{w}\\cdot\\textbf{x}^T+b > 0$; it will predict $y=-1$ if $\\textbf{w}\\cdot\\textbf{x}+b < 0$."
   ]
  },
  {
   "cell_type": "code",
   "execution_count": 29,
   "metadata": {
    "scrolled": true
   },
   "outputs": [
    {
     "name": "stdout",
     "output_type": "stream",
     "text": [
      "[[-1.40740841 -0.05774871]]\n",
      "[ 1.34107228]\n",
      "(1, 2)\n"
     ]
    },
    {
     "name": "stderr",
     "output_type": "stream",
     "text": [
      "C:\\Users\\ch002\\Anaconda3\\lib\\site-packages\\sklearn\\utils\\validation.py:578: DataConversionWarning: A column-vector y was passed when a 1d array was expected. Please change the shape of y to (n_samples, ), for example using ravel().\n",
      "  y = column_or_1d(y, warn=True)\n"
     ]
    },
    {
     "data": {
      "image/png": "[encoded data removed]",
      "text/plain": [
       "<matplotlib.figure.Figure at 0x1e24214e5c0>"
      ]
     },
     "metadata": {},
     "output_type": "display_data"
    }
   ],
   "source": [
    "# Apply linear SVM to Iris dataset.\n",
    "from sklearn.svm import LinearSVC\n",
    "\n",
    "#class 1\n",
    "x1_c1 = 0 + np.random.rand(1, 10)\n",
    "x2_c1 = 0 + np.random.rand(1, 10)\n",
    "y_c1 = np.ones([1, 10])\n",
    "\n",
    "# class -1\n",
    "x1_c2 = 1 + np.random.rand(1, 10)\n",
    "x2_c2 = 0.2 + np.random.rand(1, 10)\n",
    "y_c2 = -1 * np.ones([1, 10])\n",
    "\n",
    "x1 = np.concatenate([x1_c1, x1_c2])\n",
    "x2 = np.concatenate([x2_c1, x2_c2])\n",
    "y = np.concatenate([y_c1, y_c2])\n",
    "\n",
    "plt.scatter(x1, x2, c=y)\n",
    "\n",
    "\n",
    "x1 = x1.reshape(-1, 1)\n",
    "x2 = x2.reshape(-1, 1)\n",
    "x = np.concatenate([x1, x2], axis=1)\n",
    "y = y.reshape(-1, 1)\n",
    "svc = LinearSVC()\n",
    "svc.fit(x, y)\n",
    "print(svc.coef_)\n",
    "print(svc.intercept_)\n",
    "print(svc.coef_.shape)\n",
    "w1 = svc.coef_[0, 0]\n",
    "w2 = svc.coef_[0, 1]\n",
    "b = svc.intercept_\n",
    "\n",
    "xs = np.linspace(0, 2, 100)\n",
    "ys1 = (-b - w1 * xs) / w2\n",
    "ys2 = (1-b - w1 * xs) / w2\n",
    "ys3 = (-1-b - w1 * xs) / w2\n",
    "plt.plot(xs, ys1)\n",
    "plt.plot(xs, ys2, '--')\n",
    "plt.plot(xs, ys3, '--')\n",
    "plt.xlim(-1, 3)\n",
    "plt.ylim(-2, 2)\n",
    "plt.show()"
   ]
  }
 ],
 "metadata": {
  "kernelspec": {
   "display_name": "Python 3",
   "language": "python",
   "name": "python3"
  },
  "language_info": {
   "codemirror_mode": {
    "name": "ipython",
    "version": 3
   },
   "file_extension": ".py",
   "mimetype": "text/x-python",
   "name": "python",
   "nbconvert_exporter": "python",
   "pygments_lexer": "ipython3",
   "version": "3.6.3"
  }
 },
 "nbformat": 4,
 "nbformat_minor": 2
}
