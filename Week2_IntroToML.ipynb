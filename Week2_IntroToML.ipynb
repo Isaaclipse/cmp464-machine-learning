{
 "cells": [
  {
   "cell_type": "markdown",
   "metadata": {},
   "source": [
    "# Chapter 1. The Machine Learning Landscape\n",
    "\n",
    "## What is Machine Learning?\n",
    "\n",
    "Machine Learning is the science of programming computers so they can learn from data.\n",
    "\n",
    "A computer program is said to learn from experience E with respect to some task T and some performance measure P, if its performance on T, as measured by P, improves with experience E. -- Tom Mitchell, 1997.\n",
    "\n",
    "Example: spam filter\n",
    "Task T: to flag spam for new emails\n",
    "Experience E: existing emails with labels (either spam or non-spam)\n",
    "Performance measure P: ratio of correctly classified emails\n",
    "\n",
    "Non-example: the collection of Wikipedia pages\n",
    "\n",
    "## Why Use Machine Learning?\n",
    "\n",
    "Traditional approach for spam filter:\n",
    "1. Choose features of spam emails manually: \"4U\", \"credit card\", \"free\", \"amazing\"\n",
    "2. Write an program to detect exactly the features you chose\n",
    "3. Test the program and modify the features until satisfactory\n",
    "\n",
    "Drawbacks: \n",
    "1. A large amount of features are needed - hard to maintain\n",
    "2. Spammers may change their writing to avoid explicit rules: change \"4U\" to \"For U\".\n",
    "3. For some complex problems, manually-engineered features are not good enough: hand-written digits\n",
    "\n",
    "Machine Learning models:\n",
    "1. Automatically learns which words and phrases are good predictors of spam. \n",
    "2. Since the program is not a stack of explicit rules, it is much shorter, easier to maintain, and most likely more accurate.\n",
    "3. With new training data, the Machine Learning model can update automatically to capture new indicators of spam emails.\n",
    "\n",
    "What Machine Learning is great for:\n",
    "1. Problems for which existing solutions require a lot of hand-tuning or long lists of rules: one Machine Learning algorithm can often simplify code and perform better.\n",
    "2. Complex problems for which there is no good solution at all using a traditional approach: the best Machine Learning techniques can find a solution.\n",
    "3. Fluctuating environments: a Machine Learning system can adapt to new data.\n",
    "4. Large amount of data: With Machine Learning, computers process big data faster than human.\n"
   ]
  },
  {
   "cell_type": "markdown",
   "metadata": {},
   "source": [
    "## Various Types of Machine Learning\n",
    "- Supervised vs. Unsupervised Learning\n",
    "- Semisupervised, reinforcement, transfer, adverseral learning...\n",
    "- Online learning\n",
    "- Instance based vs. model based learning"
   ]
  },
  {
   "cell_type": "markdown",
   "metadata": {},
   "source": [
    "## Challenges of Machine Learning\n",
    "- Insufficient quantity of training data\n",
    "- Non-representative training data\n",
    "- Irrelevant features"
   ]
  },
  {
   "cell_type": "markdown",
   "metadata": {},
   "source": [
    "## Two Machine Learning Guidelines\n",
    "- No Free Lunch Theorem\n",
    "- Curse of Dimensionality"
   ]
  },
  {
   "cell_type": "markdown",
   "metadata": {},
   "source": [
    "## A Machine Learning Example: Does money make people happier?\n",
    "\n",
    "### Step 1: Look for data\n",
    "Suppose you want to know if money makes people happy, so the first thing is to find data that characterize how wealthy and happy people are. Looking for informational data is in general not a easy task, but in this example we will simply use the Better Life Index data from the OECD's website:\n",
    "\n",
    "http://stats.oecd.org/index.aspx?DataSetCode=BLI\n",
    "\n",
    "as well as stats about GDP per capita from the IMF's website:\n",
    "\n",
    "https://www.imf.org/external/datamapper/NGDPDPC@WEO/OEMDC/ADVEC/WEOWORLD\n",
    "\n",
    "Download these data as BLI.csv and GDP.csv (for the latter one you need to use Excel to save the original file as a .csv file)"
   ]
  },
  {
   "cell_type": "markdown",
   "metadata": {},
   "source": [
    "### Step 2: Load the data\n",
    "- Use read_csv() from pandas library to load the csv files as pandas DataFrame.\n",
    "- Get to know the data: check the column names, shape of dataset, data types. Use value_counts() to show frequencies for categorical data. Use hist() to draw histograms for numerical data.\n",
    "- Extract the average Life Satisfaction value for each country."
   ]
  },
  {
   "cell_type": "code",
   "execution_count": null,
   "metadata": {
    "scrolled": false
   },
   "outputs": [],
   "source": [
    "# Find the directory of the Data folder\n",
    "import os\n",
    "cur_path = os.getcwd()\n",
    "os.listdir(cur_path)"
   ]
  },
  {
   "cell_type": "code",
   "execution_count": null,
   "metadata": {},
   "outputs": [],
   "source": [
    "datapath = cur_path + '/Data/'\n",
    "# OR\n",
    "datapath = os.path.join(cur_path, 'Data/')\n",
    "os.listdir(datapath)"
   ]
  },
  {
   "cell_type": "code",
   "execution_count": null,
   "metadata": {},
   "outputs": [],
   "source": [
    "import pandas as pd\n",
    "pd.__version__"
   ]
  },
  {
   "cell_type": "code",
   "execution_count": null,
   "metadata": {},
   "outputs": [],
   "source": [
    "# Use a data frame to store values from BLI.csv\n",
    "bli = pd.read_csv(datapath + 'BLI.csv')"
   ]
  },
  {
   "cell_type": "code",
   "execution_count": null,
   "metadata": {},
   "outputs": [],
   "source": [
    "# Show the first few rows of bli\n",
    "bli.head(10)"
   ]
  },
  {
   "cell_type": "code",
   "execution_count": null,
   "metadata": {},
   "outputs": [],
   "source": [
    "# What are the columns?\n",
    "bli.columns"
   ]
  },
  {
   "cell_type": "code",
   "execution_count": null,
   "metadata": {},
   "outputs": [],
   "source": [
    "# What are the data types?\n",
    "bli.dtypes"
   ]
  },
  {
   "cell_type": "code",
   "execution_count": null,
   "metadata": {},
   "outputs": [],
   "source": [
    "# We can manually change the data types using astype()\n",
    "# bli['PowerCode Code'] = bli['PowerCode Code'].astype('int64')"
   ]
  },
  {
   "cell_type": "code",
   "execution_count": null,
   "metadata": {},
   "outputs": [],
   "source": [
    "# Look at the first feature 'LOCATION'\n",
    "bli['Indicator'].value_counts()"
   ]
  },
  {
   "cell_type": "code",
   "execution_count": null,
   "metadata": {},
   "outputs": [],
   "source": [
    "# Extract Life Satisfaction part from the dataset\n",
    "new_bli = bli[bli['Indicator'] == 'Life satisfaction']\n",
    "new_bli['Indicator'].value_counts()"
   ]
  },
  {
   "cell_type": "code",
   "execution_count": null,
   "metadata": {
    "scrolled": true
   },
   "outputs": [],
   "source": [
    "new_bli['INEQUALITY'].value_counts()"
   ]
  },
  {
   "cell_type": "code",
   "execution_count": null,
   "metadata": {},
   "outputs": [],
   "source": [
    "# from new_bli, extract the values associated with INEQUALITY being TOT.\n",
    "new_bli2 = new_bli[new_bli['INEQUALITY'] == 'TOT']\n",
    "new_bli2['INEQUALITY'].value_counts()"
   ]
  },
  {
   "cell_type": "code",
   "execution_count": null,
   "metadata": {
    "scrolled": true
   },
   "outputs": [],
   "source": [
    "new_bli2.head()"
   ]
  },
  {
   "cell_type": "code",
   "execution_count": null,
   "metadata": {
    "scrolled": true
   },
   "outputs": [],
   "source": [
    "# Create a data frame containing only 'Country' and 'Value'\n",
    "final_bli = new_bli2[['Country', 'Value']]\n",
    "final_bli.head()"
   ]
  },
  {
   "cell_type": "code",
   "execution_count": null,
   "metadata": {
    "scrolled": true
   },
   "outputs": [],
   "source": [
    "# Set Country to be the index of the data frame\n",
    "final_bli = final_bli.set_index('Country')\n",
    "final_bli.head()"
   ]
  },
  {
   "cell_type": "code",
   "execution_count": null,
   "metadata": {
    "scrolled": true
   },
   "outputs": [],
   "source": [
    "# Rename the Value column as BLI (Later we will create another column called GDP)\n",
    "final_bli = final_bli.rename(columns={'Value':'BLI'})\n",
    "final_bli.head()"
   ]
  },
  {
   "cell_type": "code",
   "execution_count": null,
   "metadata": {
    "scrolled": true
   },
   "outputs": [],
   "source": [
    "# Use pandas to draw a historgram for the BLI\n",
    "%matplotlib inline\n",
    "final_bli['BLI'].hist()\n",
    "\n",
    "import matplotlib.pyplot as plt\n",
    "plt.hist(final_bli['BLI'])"
   ]
  },
  {
   "cell_type": "markdown",
   "metadata": {},
   "source": [
    "### Interlude: An introduction to pandas DataFrames\n",
    "- How to create a dataframe\n",
    "- Computing descriptive statistics\n",
    "- Column / row slicing\n",
    "- How to add new columns"
   ]
  },
  {
   "cell_type": "code",
   "execution_count": null,
   "metadata": {},
   "outputs": [],
   "source": [
    "# Create a numpy array with data\n",
    "import numpy as np\n",
    "data = np.array([['Alice', 24, 'A'],\n",
    "                 ['Bob', 25, 'B'],\n",
    "                 ['Clare', 24, 'C'],\n",
    "                 ['Doug', 26, 'C']\n",
    "                ])\n",
    "print(data)"
   ]
  },
  {
   "cell_type": "code",
   "execution_count": null,
   "metadata": {},
   "outputs": [],
   "source": [
    "# load data as a pandas DataFrame\n",
    "df = pd.DataFrame(data=data,\n",
    "                      columns=['Name', 'Age', 'Grade'],\n",
    "                      index=[10001, 10002, 10003, 10004])"
   ]
  },
  {
   "cell_type": "code",
   "execution_count": null,
   "metadata": {},
   "outputs": [],
   "source": [
    "df.head()"
   ]
  },
  {
   "cell_type": "code",
   "execution_count": null,
   "metadata": {},
   "outputs": [],
   "source": [
    "df2 = pd.DataFrame(df, copy=True)\n",
    "df['Name'][10001] = 'abc'\n",
    "df2['Name'][10001]"
   ]
  },
  {
   "cell_type": "code",
   "execution_count": null,
   "metadata": {
    "scrolled": true
   },
   "outputs": [],
   "source": [
    "# Things you can quickly get from a data frame\n",
    "print('columns:', df.columns)\n",
    "print('data types:', df.dtypes)\n",
    "df['Age'] = df['Age'].astype('int64')\n",
    "print('frequencies of feature Name:', df['Name'].value_counts())\n",
    "print('average age:', df['Age'].mean())\n",
    "print('variance of ages:', df['Age'].var())\n",
    "df['Grade'].hist()\n",
    "print('shape of data frame:', df.shape)\n",
    "df['Age'].describe()"
   ]
  },
  {
   "cell_type": "code",
   "execution_count": null,
   "metadata": {},
   "outputs": [],
   "source": [
    "df"
   ]
  },
  {
   "cell_type": "code",
   "execution_count": null,
   "metadata": {
    "scrolled": false
   },
   "outputs": [],
   "source": [
    "df[['Name', 'Age']]"
   ]
  },
  {
   "cell_type": "code",
   "execution_count": null,
   "metadata": {},
   "outputs": [],
   "source": [
    "# Extract the two rows in the middle\n",
    "df.iloc[1:3, 0:2]"
   ]
  },
  {
   "cell_type": "code",
   "execution_count": null,
   "metadata": {
    "scrolled": true
   },
   "outputs": [],
   "source": [
    "df.loc[10001:10003, ['Age', 'Grade']]"
   ]
  },
  {
   "cell_type": "code",
   "execution_count": null,
   "metadata": {
    "scrolled": true
   },
   "outputs": [],
   "source": [
    "df"
   ]
  },
  {
   "cell_type": "code",
   "execution_count": null,
   "metadata": {},
   "outputs": [],
   "source": [
    "# Create a new column who's value is the difference between age and the average\n",
    "# age\n",
    "df['Age Difference'] = df['Age'] - df['Age'].mean()\n",
    "df"
   ]
  },
  {
   "cell_type": "code",
   "execution_count": null,
   "metadata": {
    "scrolled": true
   },
   "outputs": [],
   "source": [
    "# Create a new column called 'Passed' to detect whether the grade is B or above\n",
    "def is_passed(x):\n",
    "    return x == 'A' or x == 'B'\n",
    "\n",
    "df['Passed'] = df['Grade'].apply(is_passed)\n",
    "df['Passed2'] = df['Grade'].apply(lambda x: (x == 'A' or x == 'B'))\n",
    "df"
   ]
  },
  {
   "cell_type": "code",
   "execution_count": null,
   "metadata": {},
   "outputs": [],
   "source": [
    "df['Failed'] = df['Passed'].apply(lambda x : not x)\n",
    "df['Failed2'] = df['Grade'].apply(lambda x: not (x == 'A' or x == 'B'))\n",
    "df"
   ]
  },
  {
   "cell_type": "code",
   "execution_count": null,
   "metadata": {},
   "outputs": [],
   "source": [
    "# NEXT: load the 2018 GDP per capita data from GDP.csv as a DataFrame gdp.\n",
    "# Do some data exploration."
   ]
  },
  {
   "cell_type": "code",
   "execution_count": null,
   "metadata": {},
   "outputs": [],
   "source": [
    "os.getcwd()"
   ]
  },
  {
   "cell_type": "code",
   "execution_count": null,
   "metadata": {
    "scrolled": true
   },
   "outputs": [],
   "source": [
    "print(datapath)\n",
    "os.listdir(datapath)"
   ]
  },
  {
   "cell_type": "code",
   "execution_count": null,
   "metadata": {},
   "outputs": [],
   "source": [
    "gdp = pd.read_csv(datapath + 'GDP.csv', sep=',')"
   ]
  },
  {
   "cell_type": "code",
   "execution_count": null,
   "metadata": {},
   "outputs": [],
   "source": []
  },
  {
   "cell_type": "code",
   "execution_count": null,
   "metadata": {
    "scrolled": false
   },
   "outputs": [],
   "source": [
    "gdp.head()"
   ]
  },
  {
   "cell_type": "code",
   "execution_count": null,
   "metadata": {},
   "outputs": [],
   "source": [
    "gdp.columns"
   ]
  },
  {
   "cell_type": "code",
   "execution_count": null,
   "metadata": {},
   "outputs": [],
   "source": [
    "# Change the second column's label to 'Country'\n",
    "gdp.rename(columns={gdp.columns[0]:'Country'}, inplace=True)\n",
    "gdp.head()"
   ]
  },
  {
   "cell_type": "code",
   "execution_count": null,
   "metadata": {
    "scrolled": true
   },
   "outputs": [],
   "source": [
    "# Keep only the country column and the 2018 column\n",
    "gdp = gdp[['Country', '2018']]\n",
    "gdp.head()"
   ]
  },
  {
   "cell_type": "code",
   "execution_count": null,
   "metadata": {},
   "outputs": [],
   "source": [
    "gdp.set_index('Country', inplace=True)\n",
    "gdp.head()"
   ]
  },
  {
   "cell_type": "code",
   "execution_count": null,
   "metadata": {},
   "outputs": [],
   "source": [
    "gdp.rename(columns={'2018':'GDP'}, inplace=True)\n",
    "gdp.head()"
   ]
  },
  {
   "cell_type": "code",
   "execution_count": null,
   "metadata": {},
   "outputs": [],
   "source": [
    "final_bli.head()"
   ]
  },
  {
   "cell_type": "code",
   "execution_count": null,
   "metadata": {},
   "outputs": [],
   "source": [
    "data = pd.merge(gdp, final_bli, left_index=True, right_index=True)\n",
    "data.head()"
   ]
  },
  {
   "cell_type": "markdown",
   "metadata": {},
   "source": [
    "## Visualize the correlation"
   ]
  },
  {
   "cell_type": "code",
   "execution_count": null,
   "metadata": {},
   "outputs": [],
   "source": [
    "data['GDP'] = data['GDP'].astype(np.float64)\n",
    "data.dtypes"
   ]
  },
  {
   "cell_type": "code",
   "execution_count": null,
   "metadata": {
    "scrolled": true
   },
   "outputs": [],
   "source": [
    "data.sort_values(by='GDP', inplace=True)\n",
    "data.head(100)"
   ]
  },
  {
   "cell_type": "code",
   "execution_count": null,
   "metadata": {
    "scrolled": true
   },
   "outputs": [],
   "source": [
    "# Plot GDP vs. BLI\n",
    "plt.plot(data['GDP'], data['BLI'],'.')"
   ]
  },
  {
   "cell_type": "markdown",
   "metadata": {},
   "source": [
    "## Use linear regression to characterize the trend\n"
   ]
  },
  {
   "cell_type": "code",
   "execution_count": null,
   "metadata": {},
   "outputs": [],
   "source": [
    "# Use LinearRegression from Sci-Kit Learn\n",
    "from sklearn.linear_model import LinearRegression\n",
    "model = LinearRegression()  # Create a linear regression model\n",
    "model.fit(data[['GDP']], data['BLI'])  # Fit model to data"
   ]
  },
  {
   "cell_type": "code",
   "execution_count": null,
   "metadata": {},
   "outputs": [],
   "source": [
    "# Check the coefficients of the line\n",
    "m = model.coef_[0]\n",
    "b = model.intercept_\n",
    "print('m, b:', m, b)"
   ]
  },
  {
   "cell_type": "code",
   "execution_count": null,
   "metadata": {},
   "outputs": [],
   "source": [
    "# Plot the regression line together with data\n",
    "plt.plot(data[\"GDP\"], data['BLI'], 'b.')\n",
    "\n",
    "# draw the line\n",
    "xs = np.arange(0, 120000, 1000)\n",
    "ys = m * xs + b\n",
    "plt.plot(xs, ys, 'g-')\n",
    "\n",
    "plt.plot([100000], [10.0], 'r.')"
   ]
  },
  {
   "cell_type": "code",
   "execution_count": null,
   "metadata": {},
   "outputs": [],
   "source": [
    "# Split the data into training set and test set\n",
    "countries = ['Turkey', 'Germany']\n",
    "data_train = data[data.index != 'Turkey']\n",
    "data_train = data_train[data_train.index != 'Germany']\n",
    "data_train.head(100)"
   ]
  },
  {
   "cell_type": "code",
   "execution_count": null,
   "metadata": {},
   "outputs": [],
   "source": [
    "# Train the linear regression model on data_train\n",
    "model2 = LinearRegression()\n",
    "model2.fit(data_train[['GDP']], data_train['BLI'])"
   ]
  },
  {
   "cell_type": "code",
   "execution_count": null,
   "metadata": {},
   "outputs": [],
   "source": [
    "data.loc['Turkey', 'BLI']"
   ]
  },
  {
   "cell_type": "code",
   "execution_count": null,
   "metadata": {
    "scrolled": true
   },
   "outputs": [],
   "source": [
    "model2.predict(data.loc['Turkey', 'GDP'])"
   ]
  },
  {
   "cell_type": "code",
   "execution_count": null,
   "metadata": {
    "scrolled": true
   },
   "outputs": [],
   "source": [
    "data.loc['Germany', 'BLI']"
   ]
  },
  {
   "cell_type": "code",
   "execution_count": null,
   "metadata": {},
   "outputs": [],
   "source": [
    "model2.predict(data.loc['Germany', 'GDP'])"
   ]
  },
  {
   "cell_type": "markdown",
   "metadata": {},
   "source": [
    "## Week 2 Homework\n",
    "Please answer the first 8 questions after Chapter 1."
   ]
  },
  {
   "cell_type": "code",
   "execution_count": null,
   "metadata": {},
   "outputs": [],
   "source": []
  }
 ],
 "metadata": {
  "kernelspec": {
   "display_name": "Python 3",
   "language": "python",
   "name": "python3"
  },
  "language_info": {
   "codemirror_mode": {
    "name": "ipython",
    "version": 3
   },
   "file_extension": ".py",
   "mimetype": "text/x-python",
   "name": "python",
   "nbconvert_exporter": "python",
   "pygments_lexer": "ipython3",
   "version": "3.7.0"
  }
 },
 "nbformat": 4,
 "nbformat_minor": 2
}
