{
 "cells": [
  {
   "cell_type": "markdown",
   "metadata": {},
   "source": [
    "## Multilinear Regression\n",
    "**Model**:\n",
    "\n",
    "$\\hat{y} = \\theta_0 + \\theta_1x_1 + \\theta_2x_2 +\\cdots + \\theta_nx_n$\n",
    "1. $\\hat{y}$ is the predicted value.\n",
    "2. $n$ is the number of features.\n",
    "3. $x_i$ is the i-th feature value.\n",
    "4. $\\theta_j$ is the j-th model parameter (associated with $x_j$).\n",
    "\n",
    "**Vectorized form**:\n",
    "\n",
    "**$\\hat{y} = \\textbf{x}\\cdot\\theta^T$**.\n",
    "1. $\\theta = (\\theta_0, \\theta_1, ..., \\theta_n)$ is the paramter vector.\n",
    "2. $\\textbf{x} = (x_0, x_1, ..., x_n)$ is the feature vector, where $x_0$ always equal to 1.\n",
    "\n",
    "**MSE (mean square error) Cost function**:\n",
    "\n",
    "$J = \\frac{1}{m}\\sum_{i=1}^{m}\\big(\\textbf{x}^{(i)}\\cdot\\theta^T - y^{(i)}\\big)^2 = \\frac{1}{m}\\|\\textbf{X}\\cdot\\theta^T  - \\textbf{y}\\|^2 $\n",
    "\n",
    "1. $(\\textbf{x}^{(i)}, y^{(i)})$ represents the i-th training example\n",
    "2. $\\textbf{X}$ is an $m\\times n$ matrix whose i-th row is $\\textbf{x}^{(i)}$.\n",
    "3. $\\textbf{y} = (y^{(0)}, ..., y^{(m)})^T$.\n",
    "4. $\\|\\cdot\\|$ is the Euclid (L2) norm of a vector:\n",
    "\n",
    "$\\|(a_1, a_2,..., a_n)\\| = \\sqrt{a_1^2 + a_2^2 + \\cdots + a_n^2}$.\n",
    "\n",
    "**Normal Equation**\n",
    "The value of $\\theta$ that minimizes the cost function is:\n",
    "\n",
    "$\\hat{\\theta} = \\big(\\textbf{X}^T\\cdot\\textbf{X}\\big)^{-1}\\cdot\\textbf{X}^T\\cdot\\textbf{y}$."
   ]
  },
  {
   "cell_type": "code",
   "execution_count": 2,
   "metadata": {
    "scrolled": true
   },
   "outputs": [
    {
     "data": {
      "text/html": [
       "<div>\n",
       "<style>\n",
       "    .dataframe thead tr:only-child th {\n",
       "        text-align: right;\n",
       "    }\n",
       "\n",
       "    .dataframe thead th {\n",
       "        text-align: left;\n",
       "    }\n",
       "\n",
       "    .dataframe tbody tr th {\n",
       "        vertical-align: top;\n",
       "    }\n",
       "</style>\n",
       "<table border=\"1\" class=\"dataframe\">\n",
       "  <thead>\n",
       "    <tr style=\"text-align: right;\">\n",
       "      <th></th>\n",
       "      <th>Homework</th>\n",
       "      <th>Midterm</th>\n",
       "      <th>Final</th>\n",
       "    </tr>\n",
       "  </thead>\n",
       "  <tbody>\n",
       "    <tr>\n",
       "      <th>0</th>\n",
       "      <td>95.0</td>\n",
       "      <td>90.0</td>\n",
       "      <td>93.0</td>\n",
       "    </tr>\n",
       "    <tr>\n",
       "      <th>1</th>\n",
       "      <td>70.0</td>\n",
       "      <td>60.0</td>\n",
       "      <td>66.0</td>\n",
       "    </tr>\n",
       "    <tr>\n",
       "      <th>2</th>\n",
       "      <td>80.0</td>\n",
       "      <td>60.0</td>\n",
       "      <td>85.0</td>\n",
       "    </tr>\n",
       "    <tr>\n",
       "      <th>3</th>\n",
       "      <td>100.0</td>\n",
       "      <td>80.0</td>\n",
       "      <td>60.0</td>\n",
       "    </tr>\n",
       "    <tr>\n",
       "      <th>4</th>\n",
       "      <td>70.0</td>\n",
       "      <td>85.0</td>\n",
       "      <td>90.0</td>\n",
       "    </tr>\n",
       "  </tbody>\n",
       "</table>\n",
       "</div>"
      ],
      "text/plain": [
       "   Homework  Midterm  Final\n",
       "0      95.0     90.0   93.0\n",
       "1      70.0     60.0   66.0\n",
       "2      80.0     60.0   85.0\n",
       "3     100.0     80.0   60.0\n",
       "4      70.0     85.0   90.0"
      ]
     },
     "execution_count": 2,
     "metadata": {},
     "output_type": "execute_result"
    }
   ],
   "source": [
    "# Toy example\n",
    "import numpy as np\n",
    "import pandas as pd\n",
    "columns = ['Homework', 'Midterm', 'Final']\n",
    "data = pd.DataFrame(columns=columns)\n",
    "data.loc[0, :] = [95, 90, 93]\n",
    "data.loc[1, :] = [70, 60, 66]\n",
    "data.loc[2, :] = [80, 60, 85]\n",
    "data.loc[3, :] = [100, 80, 60]\n",
    "data.loc[4, :] = [70, 85, 90]\n",
    "data.head()"
   ]
  },
  {
   "cell_type": "markdown",
   "metadata": {},
   "source": [
    "**Task**: Build a model to predict the final scores using homework and midterm scores."
   ]
  },
  {
   "cell_type": "code",
   "execution_count": 15,
   "metadata": {},
   "outputs": [
    {
     "data": {
      "text/plain": [
       "LinearRegression(copy_X=True, fit_intercept=True, n_jobs=1, normalize=False)"
      ]
     },
     "execution_count": 15,
     "metadata": {},
     "output_type": "execute_result"
    }
   ],
   "source": [
    "# Method 1: `sklearn.linear_model.LinearRegression`\n",
    "from sklearn.linear_model import LinearRegression\n",
    "model = LinearRegression()\n",
    "model.fit(data[['Homework', 'Midterm']], data['Final'])"
   ]
  },
  {
   "cell_type": "code",
   "execution_count": 16,
   "metadata": {},
   "outputs": [
    {
     "name": "stdout",
     "output_type": "stream",
     "text": [
      "71.75096974398758 [-0.49930178  0.64654771]\n"
     ]
    }
   ],
   "source": [
    "# Show parameter values\n",
    "print(model.intercept_, model.coef_)"
   ]
  },
  {
   "cell_type": "code",
   "execution_count": 3,
   "metadata": {},
   "outputs": [
    {
     "name": "stdout",
     "output_type": "stream",
     "text": [
      "[[  1  95  90]\n",
      " [  1  70  60]\n",
      " [  1  80  60]\n",
      " [  1 100  80]\n",
      " [  1  70  85]]\n"
     ]
    }
   ],
   "source": [
    "# Method 2: normal equation\n",
    "X = np.array([\n",
    "    [1, 95, 90],\n",
    "    [1, 70, 60],\n",
    "    [1, 80, 60],\n",
    "    [1, 100, 80],\n",
    "    [1, 70, 85]\n",
    "])\n",
    "print(X)"
   ]
  },
  {
   "cell_type": "code",
   "execution_count": 5,
   "metadata": {},
   "outputs": [
    {
     "name": "stdout",
     "output_type": "stream",
     "text": [
      "[[93]\n",
      " [66]\n",
      " [85]\n",
      " [60]\n",
      " [90]]\n"
     ]
    }
   ],
   "source": [
    "y = np.array([\n",
    "    [93],\n",
    "    [66],\n",
    "    [85],\n",
    "    [60],\n",
    "    [90]\n",
    "])\n",
    "print(y)"
   ]
  },
  {
   "cell_type": "code",
   "execution_count": 6,
   "metadata": {},
   "outputs": [
    {
     "name": "stdout",
     "output_type": "stream",
     "text": [
      "[[71.75096974]\n",
      " [-0.49930178]\n",
      " [ 0.64654771]]\n"
     ]
    }
   ],
   "source": [
    "# Apply normal equation.\n",
    "# We use A.dot(B) to calculate the matrix product of A and B\n",
    "# A.T represents the transpose of matrix A\n",
    "# np.linalg.inv(A) returns the inverse of matrix A.\n",
    "theta = np.linalg.inv(X.T.dot(X)).dot(X.T).dot(y)\n",
    "print(theta)"
   ]
  },
  {
   "cell_type": "code",
   "execution_count": 8,
   "metadata": {},
   "outputs": [
    {
     "name": "stdout",
     "output_type": "stream",
     "text": [
      "[82.50659426]\n"
     ]
    }
   ],
   "source": [
    "# The x vector of the first student:\n",
    "x = np.array([1, 95, 90])\n",
    "# The prediction on final exam score is:\n",
    "y_predict = x.dot(theta)\n",
    "print(y_predict)"
   ]
  },
  {
   "cell_type": "code",
   "execution_count": 9,
   "metadata": {},
   "outputs": [
    {
     "data": {
      "text/html": [
       "<div>\n",
       "<style>\n",
       "    .dataframe thead tr:only-child th {\n",
       "        text-align: right;\n",
       "    }\n",
       "\n",
       "    .dataframe thead th {\n",
       "        text-align: left;\n",
       "    }\n",
       "\n",
       "    .dataframe tbody tr th {\n",
       "        vertical-align: top;\n",
       "    }\n",
       "</style>\n",
       "<table border=\"1\" class=\"dataframe\">\n",
       "  <thead>\n",
       "    <tr style=\"text-align: right;\">\n",
       "      <th></th>\n",
       "      <th>Homework</th>\n",
       "      <th>Midterm</th>\n",
       "      <th>Final</th>\n",
       "    </tr>\n",
       "  </thead>\n",
       "  <tbody>\n",
       "    <tr>\n",
       "      <th>0</th>\n",
       "      <td>95.0</td>\n",
       "      <td>90.0</td>\n",
       "      <td>93.0</td>\n",
       "    </tr>\n",
       "    <tr>\n",
       "      <th>1</th>\n",
       "      <td>70.0</td>\n",
       "      <td>60.0</td>\n",
       "      <td>66.0</td>\n",
       "    </tr>\n",
       "    <tr>\n",
       "      <th>2</th>\n",
       "      <td>80.0</td>\n",
       "      <td>60.0</td>\n",
       "      <td>85.0</td>\n",
       "    </tr>\n",
       "    <tr>\n",
       "      <th>3</th>\n",
       "      <td>100.0</td>\n",
       "      <td>80.0</td>\n",
       "      <td>60.0</td>\n",
       "    </tr>\n",
       "    <tr>\n",
       "      <th>4</th>\n",
       "      <td>70.0</td>\n",
       "      <td>85.0</td>\n",
       "      <td>90.0</td>\n",
       "    </tr>\n",
       "  </tbody>\n",
       "</table>\n",
       "</div>"
      ],
      "text/plain": [
       "   Homework  Midterm  Final\n",
       "0      95.0     90.0   93.0\n",
       "1      70.0     60.0   66.0\n",
       "2      80.0     60.0   85.0\n",
       "3     100.0     80.0   60.0\n",
       "4      70.0     85.0   90.0"
      ]
     },
     "execution_count": 9,
     "metadata": {},
     "output_type": "execute_result"
    }
   ],
   "source": [
    "data"
   ]
  },
  {
   "cell_type": "code",
   "execution_count": 19,
   "metadata": {},
   "outputs": [
    {
     "name": "stdout",
     "output_type": "stream",
     "text": [
      "loss:  100956.4\n",
      "[3132.0]\n"
     ]
    }
   ],
   "source": [
    "# Method 3: gradient descent\n",
    "\n",
    "# Guess a model.\n",
    "theta = np.array([1, 2, 3])\n",
    "\n",
    "# Compute the average loss on the data set\n",
    "# Student 1: homework=95, midterm=90, final=93\n",
    "y_true = 93\n",
    "# predict y to be theta[0] + theta[1] * x1 + theta[2] * x2\n",
    "y_predict = 1 + 2*95 + 3*90\n",
    "# measure the difference between the true value and the predicted value\n",
    "square_error = (y_true - y_predict)**2\n",
    "\n",
    "# repeat for each of the remaining data instances.\n",
    "\n",
    "\n",
    "# A more efficient approach: compute the square error for all data instances.\n",
    "data['y_pred'] = theta[0] + theta[1] * data['Homework'] + theta[2] * data['Midterm']\n",
    "data['square_error'] = (data['Final'] - data['y_pred'])**2\n",
    "loss = data['square_error'].mean()\n",
    "print('loss: ', loss)\n",
    "\n",
    "# Calculate the gradient of the loss function at current theta.\n",
    "# partial derivative w.r.t. theta[0]\n",
    "data['y_pred - y_true'] = data['y_pred'] - data['Final']\n",
    "partial_derivative = (data['y_pred - y_true'] * 2).mean()\n",
    "gradient = []\n",
    "gradient.append(partial_derivative)\n",
    "print(gradient)\n",
    "\n",
    "\n",
    "# suppose that we have the complete gradient\n",
    "learning_rate = 0.1\n",
    "theta[0] = theta[0] - gradient[0] * learning_rate\n",
    "theta[1] = theta[1] - gradient[1] * learning_rate\n",
    "# ....\n",
    "theta = theta - gradient * learning_rate # this modifies all theta's\n"
   ]
  },
  {
   "cell_type": "code",
   "execution_count": null,
   "metadata": {
    "collapsed": true
   },
   "outputs": [],
   "source": [
    "# Method 4: stochastic gradient method.\n",
    "# instead of calculating the mean of all data instances, we randomly choose a subset\n",
    "# and calculate the mean of the subset.\n",
    "\n",
    "# The subset is usually called mini-batch, in practice the size of mini-batch can be 1 - 128.\n"
   ]
  },
  {
   "cell_type": "markdown",
   "metadata": {},
   "source": [
    "## Polynomial Regression"
   ]
  },
  {
   "cell_type": "code",
   "execution_count": 21,
   "metadata": {
    "collapsed": true
   },
   "outputs": [],
   "source": [
    "# Generate training data\n",
    "import numpy as np\n",
    "import matplotlib.pyplot as plt\n",
    "%matplotlib inline\n",
    "# random seed\n",
    "np.random.seed(42)\n",
    "\n",
    "# Generate training data\n",
    "m = 100\n",
    "X = 6 * np.random.rand(m, 1) - 3\n",
    "y = 0.5 * X**2 + X + 2 + np.random.randn(m, 1)"
   ]
  },
  {
   "cell_type": "code",
   "execution_count": 22,
   "metadata": {},
   "outputs": [
    {
     "data": {
      "image/png": "[encoded data removed]",
      "text/plain": [
       "<matplotlib.figure.Figure at 0x204fd591390>"
      ]
     },
     "metadata": {},
     "output_type": "display_data"
    }
   ],
   "source": [
    "# Plot training data\n",
    "plt.scatter(X,y)\n",
    "plt.show()"
   ]
  },
  {
   "cell_type": "markdown",
   "metadata": {},
   "source": [
    "## Polynomial Regression\n",
    "\n",
    "**Model**:\n",
    "\n",
    "$\\hat{y} = \\theta_0 + \\theta_1x^1 + \\theta_2x^2 +\\cdots + \\theta_nx^n$\n",
    "1. $\\hat{y}$ is the predicted value.\n",
    "2. $n$ is the **degree of the polynomial**.\n",
    "3. $x^i$ is the **i-th power of the feature**.\n",
    "4. $\\theta_j$ is the j-th model parameter (associated with $x^j$).\n",
    "\n",
    "**Key observation**: polynomial regression is equivalent to multilinear regression with various powers of the input feature.\n",
    "\n",
    "**Vectorized form**:\n",
    "\n",
    "**$\\hat{y} = \\textbf{x}\\cdot\\theta^T$**.\n",
    "1. $\\theta = (\\theta_0, \\theta_1, ..., \\theta_n)$ is the paramter vector.\n",
    "2. $\\textbf{x} = (x^0, x^1, ..., x^n)$ is the **feature vector**, where $x^0$ always equal to 1.\n",
    "\n",
    "**MSE (mean square error) Cost function**:\n",
    "\n",
    "$J = \\frac{1}{m}\\sum_{i=1}^{m}\\big(\\textbf{x}^{(i)}\\cdot\\theta^T - y^{(i)}\\big)^2 = \\|\\textbf{X}\\cdot\\theta^T  - \\textbf{y}\\|^2 $\n",
    "\n",
    "1. $(\\textbf{x}^{(i)}, y^{(i)})$ represents the i-th training example\n",
    "2. $\\textbf{X}$ is an $m\\times n$ matrix whose i-th row is $\\textbf{x}^{(i)}$.\n",
    "3. $\\textbf{y} = (y^{(0)}, ..., y^{(m)})^T$.\n",
    "4. $\\|\\cdot\\|$ is the Euclid (L2) norm of a vector:\n",
    "\n",
    "$\\|(a_1, a_2,..., a_n)\\| = \\sqrt{a_1^2 + a_2^2 + \\cdots + a_n^2}$.\n",
    "\n",
    "**Normal Equation**\n",
    "The value of $\\theta$ that minimizes the cost function is:\n",
    "\n",
    "$\\hat{\\theta} = \\big(\\textbf{X}^T\\cdot\\textbf{X}\\big)\\cdot\\textbf{X}^T\\cdot\\textbf{y}$."
   ]
  },
  {
   "cell_type": "code",
   "execution_count": 24,
   "metadata": {
    "scrolled": true
   },
   "outputs": [
    {
     "data": {
      "text/html": [
       "<div>\n",
       "<style>\n",
       "    .dataframe thead tr:only-child th {\n",
       "        text-align: right;\n",
       "    }\n",
       "\n",
       "    .dataframe thead th {\n",
       "        text-align: left;\n",
       "    }\n",
       "\n",
       "    .dataframe tbody tr th {\n",
       "        vertical-align: top;\n",
       "    }\n",
       "</style>\n",
       "<table border=\"1\" class=\"dataframe\">\n",
       "  <thead>\n",
       "    <tr style=\"text-align: right;\">\n",
       "      <th></th>\n",
       "      <th>x</th>\n",
       "    </tr>\n",
       "  </thead>\n",
       "  <tbody>\n",
       "    <tr>\n",
       "      <th>0</th>\n",
       "      <td>-0.752759</td>\n",
       "    </tr>\n",
       "    <tr>\n",
       "      <th>1</th>\n",
       "      <td>2.704286</td>\n",
       "    </tr>\n",
       "    <tr>\n",
       "      <th>2</th>\n",
       "      <td>1.391964</td>\n",
       "    </tr>\n",
       "    <tr>\n",
       "      <th>3</th>\n",
       "      <td>0.591951</td>\n",
       "    </tr>\n",
       "    <tr>\n",
       "      <th>4</th>\n",
       "      <td>-2.063888</td>\n",
       "    </tr>\n",
       "  </tbody>\n",
       "</table>\n",
       "</div>"
      ],
      "text/plain": [
       "          x\n",
       "0 -0.752759\n",
       "1  2.704286\n",
       "2  1.391964\n",
       "3  0.591951\n",
       "4 -2.063888"
      ]
     },
     "execution_count": 24,
     "metadata": {},
     "output_type": "execute_result"
    }
   ],
   "source": [
    "# Covert polynomial regression problems to linear regression problems\n",
    "data_poly = pd.DataFrame(data=X, columns=['x'])\n",
    "data_poly.head()"
   ]
  },
  {
   "cell_type": "code",
   "execution_count": 25,
   "metadata": {
    "scrolled": true
   },
   "outputs": [
    {
     "data": {
      "text/html": [
       "<div>\n",
       "<style>\n",
       "    .dataframe thead tr:only-child th {\n",
       "        text-align: right;\n",
       "    }\n",
       "\n",
       "    .dataframe thead th {\n",
       "        text-align: left;\n",
       "    }\n",
       "\n",
       "    .dataframe tbody tr th {\n",
       "        vertical-align: top;\n",
       "    }\n",
       "</style>\n",
       "<table border=\"1\" class=\"dataframe\">\n",
       "  <thead>\n",
       "    <tr style=\"text-align: right;\">\n",
       "      <th></th>\n",
       "      <th>x</th>\n",
       "      <th>y</th>\n",
       "    </tr>\n",
       "  </thead>\n",
       "  <tbody>\n",
       "    <tr>\n",
       "      <th>0</th>\n",
       "      <td>-0.752759</td>\n",
       "      <td>1.617611</td>\n",
       "    </tr>\n",
       "    <tr>\n",
       "      <th>1</th>\n",
       "      <td>2.704286</td>\n",
       "      <td>8.061859</td>\n",
       "    </tr>\n",
       "    <tr>\n",
       "      <th>2</th>\n",
       "      <td>1.391964</td>\n",
       "      <td>4.452506</td>\n",
       "    </tr>\n",
       "    <tr>\n",
       "      <th>3</th>\n",
       "      <td>0.591951</td>\n",
       "      <td>0.779585</td>\n",
       "    </tr>\n",
       "    <tr>\n",
       "      <th>4</th>\n",
       "      <td>-2.063888</td>\n",
       "      <td>1.846257</td>\n",
       "    </tr>\n",
       "  </tbody>\n",
       "</table>\n",
       "</div>"
      ],
      "text/plain": [
       "          x         y\n",
       "0 -0.752759  1.617611\n",
       "1  2.704286  8.061859\n",
       "2  1.391964  4.452506\n",
       "3  0.591951  0.779585\n",
       "4 -2.063888  1.846257"
      ]
     },
     "execution_count": 25,
     "metadata": {},
     "output_type": "execute_result"
    }
   ],
   "source": [
    "# Add y values to the data frame\n",
    "data_poly['y'] = y\n",
    "data_poly.head()"
   ]
  },
  {
   "cell_type": "code",
   "execution_count": 28,
   "metadata": {
    "scrolled": true
   },
   "outputs": [
    {
     "data": {
      "text/html": [
       "<div>\n",
       "<style>\n",
       "    .dataframe thead tr:only-child th {\n",
       "        text-align: right;\n",
       "    }\n",
       "\n",
       "    .dataframe thead th {\n",
       "        text-align: left;\n",
       "    }\n",
       "\n",
       "    .dataframe tbody tr th {\n",
       "        vertical-align: top;\n",
       "    }\n",
       "</style>\n",
       "<table border=\"1\" class=\"dataframe\">\n",
       "  <thead>\n",
       "    <tr style=\"text-align: right;\">\n",
       "      <th></th>\n",
       "      <th>x</th>\n",
       "      <th>y</th>\n",
       "      <th>z0</th>\n",
       "      <th>z1</th>\n",
       "      <th>z2</th>\n",
       "    </tr>\n",
       "  </thead>\n",
       "  <tbody>\n",
       "    <tr>\n",
       "      <th>0</th>\n",
       "      <td>-0.752759</td>\n",
       "      <td>1.617611</td>\n",
       "      <td>1</td>\n",
       "      <td>-0.752759</td>\n",
       "      <td>0.566647</td>\n",
       "    </tr>\n",
       "    <tr>\n",
       "      <th>1</th>\n",
       "      <td>2.704286</td>\n",
       "      <td>8.061859</td>\n",
       "      <td>1</td>\n",
       "      <td>2.704286</td>\n",
       "      <td>7.313162</td>\n",
       "    </tr>\n",
       "    <tr>\n",
       "      <th>2</th>\n",
       "      <td>1.391964</td>\n",
       "      <td>4.452506</td>\n",
       "      <td>1</td>\n",
       "      <td>1.391964</td>\n",
       "      <td>1.937563</td>\n",
       "    </tr>\n",
       "    <tr>\n",
       "      <th>3</th>\n",
       "      <td>0.591951</td>\n",
       "      <td>0.779585</td>\n",
       "      <td>1</td>\n",
       "      <td>0.591951</td>\n",
       "      <td>0.350406</td>\n",
       "    </tr>\n",
       "    <tr>\n",
       "      <th>4</th>\n",
       "      <td>-2.063888</td>\n",
       "      <td>1.846257</td>\n",
       "      <td>1</td>\n",
       "      <td>-2.063888</td>\n",
       "      <td>4.259634</td>\n",
       "    </tr>\n",
       "  </tbody>\n",
       "</table>\n",
       "</div>"
      ],
      "text/plain": [
       "          x         y  z0        z1        z2\n",
       "0 -0.752759  1.617611   1 -0.752759  0.566647\n",
       "1  2.704286  8.061859   1  2.704286  7.313162\n",
       "2  1.391964  4.452506   1  1.391964  1.937563\n",
       "3  0.591951  0.779585   1  0.591951  0.350406\n",
       "4 -2.063888  1.846257   1 -2.063888  4.259634"
      ]
     },
     "execution_count": 28,
     "metadata": {},
     "output_type": "execute_result"
    }
   ],
   "source": [
    "# Add z variables, z0 = x^0, z1=x^1, ..., zn = x^n\n",
    "data_poly['z0'] = 1\n",
    "data_poly['z1'] = data_poly['x'] ** 1\n",
    "data_poly['z2'] = data_poly['x'] ** 2\n",
    "data_poly.head()"
   ]
  },
  {
   "cell_type": "code",
   "execution_count": 30,
   "metadata": {},
   "outputs": [
    {
     "name": "stdout",
     "output_type": "stream",
     "text": [
      "(100, 3) (100,)\n"
     ]
    }
   ],
   "source": [
    "Z = data_poly[['z0', 'z1', 'z2']].values\n",
    "y = data_poly['y'].values\n",
    "print(Z.shape, y.shape)"
   ]
  },
  {
   "cell_type": "code",
   "execution_count": 31,
   "metadata": {
    "scrolled": true
   },
   "outputs": [
    {
     "name": "stdout",
     "output_type": "stream",
     "text": [
      "[1.78134581 0.93366893 0.56456263]\n"
     ]
    }
   ],
   "source": [
    "theta = np.linalg.inv(Z.T.dot(Z)).dot(Z.T).dot(y)\n",
    "print(theta)"
   ]
  },
  {
   "cell_type": "code",
   "execution_count": 34,
   "metadata": {},
   "outputs": [
    {
     "data": {
      "image/png": "[encoded data removed]",
      "text/plain": [
       "<matplotlib.figure.Figure at 0x204feec06a0>"
      ]
     },
     "metadata": {},
     "output_type": "display_data"
    }
   ],
   "source": [
    "# plot the polynomial curve\n",
    "plt.plot(data_poly['x'], data_poly['y'], '.')\n",
    "xs = np.linspace(-3, 3, 100)\n",
    "ys = theta[0] + theta[1] * xs + theta[2] * xs ** 2\n",
    "plt.plot(xs, ys, 'g-')\n",
    "plt.show()"
   ]
  },
  {
   "cell_type": "markdown",
   "metadata": {},
   "source": [
    "### Perform polynomial regression with sklearn\n",
    "\n",
    "- Add powers to the training data: \n",
    "\n",
    "`from sklearn.preprocessing import PolynomialReatures`\n",
    "\n",
    "- Solve polynomial regression with LinearRegression module."
   ]
  },
  {
   "cell_type": "code",
   "execution_count": null,
   "metadata": {
    "collapsed": true
   },
   "outputs": [],
   "source": []
  },
  {
   "cell_type": "code",
   "execution_count": null,
   "metadata": {
    "collapsed": true
   },
   "outputs": [],
   "source": []
  },
  {
   "cell_type": "code",
   "execution_count": null,
   "metadata": {
    "collapsed": true
   },
   "outputs": [],
   "source": []
  },
  {
   "cell_type": "markdown",
   "metadata": {},
   "source": [
    "## Homework:\n",
    "1. Use normal equation to train a polynomial regression model on the above data set.\n",
    "2. Use gradient descent to train a polynomial regression model on the above data set."
   ]
  },
  {
   "cell_type": "code",
   "execution_count": null,
   "metadata": {
    "collapsed": true
   },
   "outputs": [],
   "source": []
  },
  {
   "cell_type": "markdown",
   "metadata": {},
   "source": [
    "## Logistic Regression\n",
    "\n",
    "We have studied how to use linear regression and polynomial regression to *predict a target numeric value*. There is another learning task, **classification**, aiming at predicting group membership rather than numeric values. Email spam filter is a good example: it is trained with many example emails with their class (spam or non-spam), and it must learn how to classify new emails.\n",
    "\n",
    "Linear regression is **not** a good choice for classification tasks. We will introduce the **logistic regression** model and use the iris dataset to illustrate how the model works."
   ]
  },
  {
   "cell_type": "markdown",
   "metadata": {},
   "source": [
    "### Logistic Regression\n",
    "**Single-class model**: fit the probability of data belonging to the class\n",
    "\n",
    "$\\log\\frac{\\hat{p}}{1 - \\hat{p}} = h(x_1, ..., x_n),$\n",
    "\n",
    "$h(x_1, ..., x_n) = \\theta_1x_1 + \\theta_2x_2 +\\cdots + \\theta_nx_n.$\n",
    "- n: number of input features.\n",
    "- x_1, ..., x_n: input features\n",
    "- $\\hat{p}$: the estimated probability of data belonging to the class\n",
    "- $\\theta_1,...,\\theta_n$: parameters of the model\n",
    "\n",
    "**Alternative format**:\n",
    "\n",
    "$\\hat{p} = \\sigma(\\textbf{x}\\cdot\\theta^T).$\n",
    "\n",
    "- $\\textbf{x} = (x_1, ..., x_n)$.\n",
    "- $\\theta = (\\theta_1, ..., \\theta_n)$.\n",
    "- $\\sigma(t) = \\frac{1}{1+e^{-t}}$: logistic function\n",
    "\n",
    "**Decision rule** (adjustible):\n",
    "\n",
    "- prediction = 1 if $\\hat{p}$ $\\ge$ 0.5\n",
    "- prediction = 0 if $\\hat{p}$ < 0.5\n"
   ]
  },
  {
   "cell_type": "code",
   "execution_count": null,
   "metadata": {
    "collapsed": true
   },
   "outputs": [],
   "source": []
  }
 ],
 "metadata": {
  "kernelspec": {
   "display_name": "Python 3",
   "language": "python",
   "name": "python3"
  },
  "language_info": {
   "codemirror_mode": {
    "name": "ipython",
    "version": 3
   },
   "file_extension": ".py",
   "mimetype": "text/x-python",
   "name": "python",
   "nbconvert_exporter": "python",
   "pygments_lexer": "ipython3",
   "version": "3.6.3"
  }
 },
 "nbformat": 4,
 "nbformat_minor": 2
}
