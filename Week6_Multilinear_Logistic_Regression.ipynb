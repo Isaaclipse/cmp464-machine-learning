{
 "cells": [
  {
   "cell_type": "markdown",
   "metadata": {},
   "source": [
    "## Multilinear Regression\n",
    "**Model**:\n",
    "\n",
    "$\\hat{y} = \\theta_0 + \\theta_1x_1 + \\theta_2x_2 +\\cdots + \\theta_nx_n$\n",
    "1. $\\hat{y}$ is the predicted value.\n",
    "2. $n$ is the number of features.\n",
    "3. $x_i$ is the i-th feature value.\n",
    "4. $\\theta_j$ is the j-th model parameter (associated with $x_j$).\n",
    "\n",
    "**Vectorized form**:\n",
    "\n",
    "**$\\hat{y} = \\textbf{x}\\cdot\\theta^T$**.\n",
    "1. $\\theta = (\\theta_0, \\theta_1, ..., \\theta_n)$ is the paramter vector.\n",
    "2. $\\textbf{x} = (x_0, x_1, ..., x_n)$ is the feature vector, where $x_0$ always equal to 1.\n",
    "\n",
    "**MSE (mean square error) Cost function**:\n",
    "\n",
    "$J = \\frac{1}{m}\\sum_{i=1}^{m}\\big(\\textbf{x}^{(i)}\\cdot\\theta^T - y^{(i)}\\big)^2 = \\frac{1}{m}\\|\\textbf{X}\\cdot\\theta^T  - \\textbf{y}\\|^2 $\n",
    "\n",
    "1. $(\\textbf{x}^{(i)}, y^{(i)})$ represents the i-th training example\n",
    "2. $\\textbf{X}$ is an $m\\times n$ matrix whose i-th row is $\\textbf{x}^{(i)}$.\n",
    "3. $\\textbf{y} = (y^{(0)}, ..., y^{(m)})^T$.\n",
    "4. $\\|\\cdot\\|$ is the Euclid (L2) norm of a vector:\n",
    "\n",
    "$\\|(a_1, a_2,..., a_n)\\| = \\sqrt{a_1^2 + a_2^2 + \\cdots + a_n^2}$.\n",
    "\n",
    "**Normal Equation**\n",
    "The value of $\\theta$ that minimizes the cost function is:\n",
    "\n",
    "$\\hat{\\theta} = \\big(\\textbf{X}^T\\cdot\\textbf{X}\\big)^{-1}\\cdot\\textbf{X}^T\\cdot\\textbf{y}$."
   ]
  },
  {
   "cell_type": "code",
   "execution_count": 14,
   "metadata": {
    "scrolled": true
   },
   "outputs": [
    {
     "data": {
      "text/html": [
       "<div>\n",
       "<style scoped>\n",
       "    .dataframe tbody tr th:only-of-type {\n",
       "        vertical-align: middle;\n",
       "    }\n",
       "\n",
       "    .dataframe tbody tr th {\n",
       "        vertical-align: top;\n",
       "    }\n",
       "\n",
       "    .dataframe thead th {\n",
       "        text-align: right;\n",
       "    }\n",
       "</style>\n",
       "<table border=\"1\" class=\"dataframe\">\n",
       "  <thead>\n",
       "    <tr style=\"text-align: right;\">\n",
       "      <th></th>\n",
       "      <th>Homework</th>\n",
       "      <th>Midterm</th>\n",
       "      <th>Final</th>\n",
       "    </tr>\n",
       "  </thead>\n",
       "  <tbody>\n",
       "    <tr>\n",
       "      <th>0</th>\n",
       "      <td>95.0</td>\n",
       "      <td>90.0</td>\n",
       "      <td>93.0</td>\n",
       "    </tr>\n",
       "    <tr>\n",
       "      <th>1</th>\n",
       "      <td>70.0</td>\n",
       "      <td>60.0</td>\n",
       "      <td>66.0</td>\n",
       "    </tr>\n",
       "    <tr>\n",
       "      <th>2</th>\n",
       "      <td>80.0</td>\n",
       "      <td>60.0</td>\n",
       "      <td>85.0</td>\n",
       "    </tr>\n",
       "    <tr>\n",
       "      <th>3</th>\n",
       "      <td>100.0</td>\n",
       "      <td>80.0</td>\n",
       "      <td>60.0</td>\n",
       "    </tr>\n",
       "    <tr>\n",
       "      <th>4</th>\n",
       "      <td>70.0</td>\n",
       "      <td>85.0</td>\n",
       "      <td>90.0</td>\n",
       "    </tr>\n",
       "  </tbody>\n",
       "</table>\n",
       "</div>"
      ],
      "text/plain": [
       "   Homework  Midterm  Final\n",
       "0      95.0     90.0   93.0\n",
       "1      70.0     60.0   66.0\n",
       "2      80.0     60.0   85.0\n",
       "3     100.0     80.0   60.0\n",
       "4      70.0     85.0   90.0"
      ]
     },
     "execution_count": 14,
     "metadata": {},
     "output_type": "execute_result"
    }
   ],
   "source": [
    "# Toy example\n",
    "import numpy as np\n",
    "import pandas as pd\n",
    "columns = ['Homework', 'Midterm', 'Final']\n",
    "data = pd.DataFrame(columns=columns)\n",
    "data.loc[0, :] = [95, 90, 93]\n",
    "data.loc[1, :] = [70, 60, 66]\n",
    "data.loc[2, :] = [80, 60, 85]\n",
    "data.loc[3, :] = [100, 80, 60]\n",
    "data.loc[4, :] = [70, 85, 90]\n",
    "data.head()"
   ]
  },
  {
   "cell_type": "markdown",
   "metadata": {},
   "source": [
    "**Task**: Build a model to predict the final scores using homework and midterm scores."
   ]
  },
  {
   "cell_type": "code",
   "execution_count": 11,
   "metadata": {},
   "outputs": [],
   "source": [
    "# Method 1: `sklearn.linear_model.LinearRegression`"
   ]
  },
  {
   "cell_type": "code",
   "execution_count": 12,
   "metadata": {},
   "outputs": [],
   "source": [
    "# Method 2: normal equation"
   ]
  },
  {
   "cell_type": "code",
   "execution_count": 13,
   "metadata": {},
   "outputs": [],
   "source": [
    "# Method 3: gradient descent"
   ]
  },
  {
   "cell_type": "markdown",
   "metadata": {},
   "source": [
    "## Polynomial Regression"
   ]
  },
  {
   "cell_type": "code",
   "execution_count": 3,
   "metadata": {},
   "outputs": [],
   "source": [
    "# Generate training data\n",
    "import numpy as np\n",
    "import matplotlib.pyplot as plt\n",
    "%matplotlib inline\n",
    "# random seed\n",
    "np.random.seed(42)\n",
    "\n",
    "# Generate training data\n",
    "m = 100\n",
    "X = 6 * np.random.rand(m, 1) - 3\n",
    "y = 0.5 * X**2 + X + 2 + np.random.randn(m, 1)"
   ]
  },
  {
   "cell_type": "code",
   "execution_count": 4,
   "metadata": {},
   "outputs": [
    {
     "data": {
      "image/png": "[encoded data removed]",
      "text/plain": [
       "<Figure size 432x288 with 1 Axes>"
      ]
     },
     "metadata": {
      "needs_background": "light"
     },
     "output_type": "display_data"
    }
   ],
   "source": [
    "# Plot training data\n",
    "plt.scatter(X,y)\n",
    "plt.show()"
   ]
  },
  {
   "cell_type": "markdown",
   "metadata": {},
   "source": [
    "## Polynomial Regression\n",
    "\n",
    "**Model**:\n",
    "\n",
    "$\\hat{y} = \\theta_0 + \\theta_1x^1 + \\theta_2x^2 +\\cdots + \\theta_nx^n$\n",
    "1. $\\hat{y}$ is the predicted value.\n",
    "2. $n$ is the **degree of the polynomial**.\n",
    "3. $x^i$ is the **i-th power of the feature**.\n",
    "4. $\\theta_j$ is the j-th model parameter (associated with $x^j$).\n",
    "\n",
    "**Key observation**: polynomial regression is equivalent to multilinear regression with various powers of the input feature.\n",
    "\n",
    "**Vectorized form**:\n",
    "\n",
    "**$\\hat{y} = \\textbf{x}\\cdot\\theta^T$**.\n",
    "1. $\\theta = (\\theta_0, \\theta_1, ..., \\theta_n)$ is the paramter vector.\n",
    "2. $\\textbf{x} = (x^0, x^1, ..., x^n)$ is the **feature vector**, where $x^0$ always equal to 1.\n",
    "\n",
    "**MSE (mean square error) Cost function**:\n",
    "\n",
    "$J = \\frac{1}{m}\\sum_{i=1}^{m}\\big(\\textbf{x}^{(i)}\\cdot\\theta^T - y^{(i)}\\big)^2 = \\|\\textbf{X}\\cdot\\theta^T  - \\textbf{y}\\|^2 $\n",
    "\n",
    "1. $(\\textbf{x}^{(i)}, y^{(i)})$ represents the i-th training example\n",
    "2. $\\textbf{X}$ is an $m\\times n$ matrix whose i-th row is $\\textbf{x}^{(i)}$.\n",
    "3. $\\textbf{y} = (y^{(0)}, ..., y^{(m)})^T$.\n",
    "4. $\\|\\cdot\\|$ is the Euclid (L2) norm of a vector:\n",
    "\n",
    "$\\|(a_1, a_2,..., a_n)\\| = \\sqrt{a_1^2 + a_2^2 + \\cdots + a_n^2}$.\n",
    "\n",
    "**Normal Equation**\n",
    "The value of $\\theta$ that minimizes the cost function is:\n",
    "\n",
    "$\\hat{\\theta} = \\big(\\textbf{X}^T\\cdot\\textbf{X}\\big)\\cdot\\textbf{X}^T\\cdot\\textbf{y}$."
   ]
  },
  {
   "cell_type": "markdown",
   "metadata": {},
   "source": [
    "### Perform polynomial regression with sklearn\n",
    "\n",
    "- Add powers to the training data: \n",
    "\n",
    "`from sklearn.preprocessing import PolynomialReatures`\n",
    "\n",
    "- Solve polynomial regression with LinearRegression module."
   ]
  },
  {
   "cell_type": "code",
   "execution_count": null,
   "metadata": {},
   "outputs": [],
   "source": []
  },
  {
   "cell_type": "code",
   "execution_count": null,
   "metadata": {},
   "outputs": [],
   "source": []
  },
  {
   "cell_type": "code",
   "execution_count": null,
   "metadata": {},
   "outputs": [],
   "source": []
  },
  {
   "cell_type": "markdown",
   "metadata": {},
   "source": [
    "## Homework:\n",
    "1. Use normal equation to train a polynomial regression model on the above data set.\n",
    "2. Use gradient descent to train a polynomial regression model on the above data set."
   ]
  },
  {
   "cell_type": "code",
   "execution_count": null,
   "metadata": {},
   "outputs": [],
   "source": []
  },
  {
   "cell_type": "markdown",
   "metadata": {},
   "source": [
    "## Logistic Regression\n",
    "\n",
    "We have studied how to use linear regression and polynomial regression to *predict a target numeric value*. There is another learning task, **classification**, aiming at predicting group membership rather than numeric values. Email spam filter is a good example: it is trained with many example emails with their class (spam or non-spam), and it must learn how to classify new emails.\n",
    "\n",
    "Linear regression is **not** a good choice for classification tasks. We will introduce the **logistic regression** model and use the iris dataset to illustrate how the model works."
   ]
  },
  {
   "cell_type": "markdown",
   "metadata": {},
   "source": [
    "### Logistic Regression\n",
    "**Single-class model**: fit the probability of data belonging to the class\n",
    "\n",
    "$\\log\\frac{\\hat{p}}{1 - \\hat{p}} = h(x_1, ..., x_n),$\n",
    "\n",
    "$h(x_1, ..., x_n) = \\theta_1x_1 + \\theta_2x_2 +\\cdots + \\theta_nx_n.$\n",
    "- n: number of input features.\n",
    "- x_1, ..., x_n: input features\n",
    "- $\\hat{p}$: the estimated probability of data belonging to the class\n",
    "- $\\theta_1,...,\\theta_n$: parameters of the model\n",
    "\n",
    "**Alternative format**:\n",
    "\n",
    "$\\hat{p} = \\sigma(\\textbf{x}\\cdot\\theta^T).$\n",
    "\n",
    "- $\\textbf{x} = (x_1, ..., x_n)$.\n",
    "- $\\theta = (\\theta_1, ..., \\theta_n)$.\n",
    "- $\\sigma(t) = \\frac{1}{1+e^{-t}}$: logistic function\n",
    "\n",
    "**Decision rule** (adjustible):\n",
    "\n",
    "- prediction = 1 if $\\hat{p}$ $\\ge$ 0.5\n",
    "- prediction = 0 if $\\hat{p}$ < 0.5\n"
   ]
  },
  {
   "cell_type": "code",
   "execution_count": null,
   "metadata": {},
   "outputs": [],
   "source": []
  }
 ],
 "metadata": {
  "kernelspec": {
   "display_name": "Python 3",
   "language": "python",
   "name": "python3"
  },
  "language_info": {
   "codemirror_mode": {
    "name": "ipython",
    "version": 3
   },
   "file_extension": ".py",
   "mimetype": "text/x-python",
   "name": "python",
   "nbconvert_exporter": "python",
   "pygments_lexer": "ipython3",
   "version": "3.7.0"
  }
 },
 "nbformat": 4,
 "nbformat_minor": 2
}
